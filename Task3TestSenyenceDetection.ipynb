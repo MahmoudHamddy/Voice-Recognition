{
 "cells": [
  {
   "cell_type": "code",
   "execution_count": 2,
   "id": "fc9c971e",
   "metadata": {},
   "outputs": [],
   "source": [
    "import numpy as np\n",
    "import pandas as pd\n",
    "import librosa\n",
    "import sklearn\n",
    "import os\n",
    "import pickle\n",
    "from sklearn.ensemble import RandomForestClassifier\n",
    "from sklearn.model_selection import train_test_split\n",
    "from sklearn.metrics import accuracy_score"
   ]
  },
  {
   "cell_type": "code",
   "execution_count": 3,
   "id": "1ef3bf19",
   "metadata": {},
   "outputs": [],
   "source": [
    "# names = []\n",
    "# Letter_names = [\"M\", \"S\", \"B\", \"Y\"]\n",
    "# for letter in Letter_names:\n",
    "#     for index in range(15):\n",
    "#         names.append({'file':\"{0}_open_({1}).wav\".format(letter, index), 'label':\"{0}\".format(letter)})\n",
    "# file_name = pd.DataFrame(names)\n",
    "# print(file_name)"
   ]
  },
  {
   "cell_type": "code",
   "execution_count": 4,
   "id": "e4e3518c",
   "metadata": {},
   "outputs": [
    {
     "name": "stdout",
     "output_type": "stream",
     "text": [
      "                Paths  Labels\n",
      "0     a_close_(1).wav       0\n",
      "1    a_close_(10).wav       0\n",
      "2    a_close_(11).wav       0\n",
      "3    a_close_(12).wav       0\n",
      "4    a_close_(13).wav       0\n",
      "..                ...     ...\n",
      "211   y_close_(5).wav       0\n",
      "212   y_close_(6).wav       0\n",
      "213   y_close_(7).wav       0\n",
      "214   y_close_(8).wav       0\n",
      "215   y_close_(9).wav       0\n",
      "\n",
      "[216 rows x 2 columns]\n"
     ]
    }
   ],
   "source": [
    "Names = os.listdir(\"AllRecords//close\")\n",
    "Close_Names_df = pd.DataFrame(Names, columns={'Paths'})\n",
    "Close_Names_df.insert(1, \"Labels\", len(Names) *[0])\n",
    "print(Close_Names_df)"
   ]
  },
  {
   "cell_type": "code",
   "execution_count": 5,
   "id": "6fa2944c",
   "metadata": {},
   "outputs": [
    {
     "name": "stdout",
     "output_type": "stream",
     "text": [
      "                           Paths  Labels\n",
      "0                 a_open_(1).wav       1\n",
      "1                a_open_(10).wav       1\n",
      "2                a_open_(11).wav       1\n",
      "3                a_open_(12).wav       1\n",
      "4                a_open_(13).wav       1\n",
      "..                           ...     ...\n",
      "214   yasmennRecording 1 (1).wav       1\n",
      "215  yasmennRecording 1 (16).wav       1\n",
      "216   yasmennRecording 1 (2).wav       1\n",
      "217   yasmennRecording 1 (6).wav       1\n",
      "218   yasmennRecording 1 (9).wav       1\n",
      "\n",
      "[219 rows x 2 columns]\n",
      "               Paths  Labels\n",
      "0     a_open_(1).wav       1\n",
      "1    a_open_(10).wav       1\n",
      "2    a_open_(11).wav       1\n",
      "3    a_open_(12).wav       1\n",
      "4    a_open_(13).wav       1\n",
      "..               ...     ...\n",
      "430  y_close_(5).wav       0\n",
      "431  y_close_(6).wav       0\n",
      "432  y_close_(7).wav       0\n",
      "433  y_close_(8).wav       0\n",
      "434  y_close_(9).wav       0\n",
      "\n",
      "[435 rows x 2 columns]\n"
     ]
    },
    {
     "name": "stderr",
     "output_type": "stream",
     "text": [
      "C:\\Users\\mahmo\\AppData\\Local\\Temp\\ipykernel_14016\\4113759299.py:6: FutureWarning: The frame.append method is deprecated and will be removed from pandas in a future version. Use pandas.concat instead.\n",
      "  all = Open_Names_df.append(Close_Names_df, ignore_index=True)\n"
     ]
    }
   ],
   "source": [
    "#Getting Team information\n",
    "Names2 = os.listdir(\"AllRecords//open\")\n",
    "Open_Names_df = pd.DataFrame(Names2, columns={'Paths'})\n",
    "Open_Names_df.insert(1, \"Labels\", len(Names2) *[1])\n",
    "print(Open_Names_df)\n",
    "all = Open_Names_df.append(Close_Names_df, ignore_index=True)\n",
    "print(all)"
   ]
  },
  {
   "cell_type": "code",
   "execution_count": 13,
   "id": "601884ed",
   "metadata": {},
   "outputs": [],
   "source": [
    "def Extract_features(paths, whichone, dowhat = ''):\n",
    "    path = os.path.join(os.path.abspath('AllRecords/{0}').format(whichone)+ ('\\\\') +str(paths['Paths']))\n",
    "    X, sample_rate = librosa.load(path, res_type = \"kaiser_fast\")\n",
    "    X, index    = librosa.effects.trim(X)\n",
    "    chroma_stft = librosa.feature.chroma_stft(X, sr=sample_rate)\n",
    "    rmse = librosa.feature.rms(y=X)\n",
    "    spec_cent = librosa.feature.spectral_centroid(X, sr=sample_rate) \n",
    "    spec_bw = librosa.feature.spectral_bandwidth(X, sr=sample_rate)\n",
    "    rolloff = librosa.feature.spectral_rolloff(X, sr=sample_rate)\n",
    "    zcr = librosa.feature.zero_crossing_rate(X)\n",
    "    mfcc = librosa.feature.mfcc(X, sr=sample_rate,n_mfcc=40) \n",
    "    return [chroma_stft, rmse, spec_cent, spec_bw, rolloff,zcr,mfcc]\n",
    "    # return [chroma_stft, rmse, spec_cent, spec_bw, rolloff,zcr,mfcc]\n",
    "    # return features\n"
   ]
  },
  {
   "cell_type": "code",
   "execution_count": 14,
   "id": "49a73412",
   "metadata": {},
   "outputs": [
    {
     "name": "stdout",
     "output_type": "stream",
     "text": [
      "0      [[[0.5400426, 0.9883244, 1.0, 0.99151784, 0.42...\n",
      "1      [[[0.7018491, 0.46376297, 0.48847985, 0.539338...\n",
      "2      [[[0.8014314, 0.976341, 1.0, 1.0, 0.67644894, ...\n",
      "3      [[[0.7008797, 0.49387884, 0.5993096, 0.9219109...\n",
      "4      [[[0.9034873, 0.9895297, 0.7815614, 0.71072185...\n",
      "                             ...                        \n",
      "430    [[[1.0, 0.82806844, 0.95903087, 1.0, 0.924533,...\n",
      "431    [[[0.53762746, 0.7825138, 0.8607997, 1.0, 0.58...\n",
      "432    [[[0.87527734, 0.83723205, 0.7751678, 0.787379...\n",
      "433    [[[0.79039603, 0.7560549, 0.66985595, 1.0, 0.9...\n",
      "434    [[[0.44455808, 0.62409323, 0.6815331, 0.826901...\n",
      "Length: 435, dtype: object\n"
     ]
    },
    {
     "name": "stderr",
     "output_type": "stream",
     "text": [
      "C:\\Users\\mahmo\\AppData\\Local\\Temp\\ipykernel_14016\\3386549790.py:9: VisibleDeprecationWarning: Creating an ndarray from ragged nested sequences (which is a list-or-tuple of lists-or-tuples-or ndarrays with different lengths or shapes) is deprecated. If you meant to do this, you must specify 'dtype=object' when creating the ndarray.\n",
      "  dd = np.array(DataSet[0])\n"
     ]
    }
   ],
   "source": [
    "mfccs = []\n",
    "mel = []\n",
    "tonnetz = []\n",
    "chroma = []\n",
    "contrast = []\n",
    "label_enter = []\n",
    "DataSet = pd.DataFrame()\n",
    "DataSet = all.apply(Extract_features, whichone=\"AllTeams\", axis=1)\n",
    "dd = np.array(DataSet[0])\n",
    "print(DataSet)"
   ]
  },
  {
   "cell_type": "code",
   "execution_count": 54,
   "id": "2945ecaa",
   "metadata": {},
   "outputs": [],
   "source": [
    "def features_append(features):\n",
    "    feature = []\n",
    "    # features[0][5] = [features[0][5]]\n",
    "    for i in range(len(features)):\n",
    "        # print(features[0][1],'1')\n",
    "        # print(features[0][2], '2')\n",
    "        # print(features[0][3], '3')\n",
    "        # print(features[0][4], '4')\n",
    "        # print(features[0][5], '5')\n",
    "        # feature.append(np.concatenate((features[i][0], features[i][1], features[i][2]\n",
    "        # , features[i][3],features[i][4],features[i][5], features[i][6]), axis=0))\n",
    "        to_append   = f'{np.mean(features[i][0])} {np.mean(features[i][1])} {np.mean(features[i][2])} {np.mean(features[i][3])} {np.mean(features[i][4])} {np.mean(features[i][5])}'\n",
    "        for e in features[i][6]:\n",
    "            to_append += f' {np.mean(e)}'\n",
    "        # print(to_append.split())\n",
    "        feature.append(to_append.split())\n",
    "        # print(feature)\n",
    "\n",
    "    # print(\"These are: \",features)\n",
    "    # print(\"The length\",len(features[0]))\n",
    "    # print(feature)\n",
    "    for j in range(len(features)):\n",
    "        for index in range(0,len(feature[j])):\n",
    "            # print(i, index)\n",
    "            # print(feature[i][index])\n",
    "            feature[j][index]=float(feature[j][index])\n",
    "\n",
    "    return feature\n"
   ]
  },
  {
   "cell_type": "code",
   "execution_count": 56,
   "id": "9dae046b",
   "metadata": {},
   "outputs": [
    {
     "name": "stdout",
     "output_type": "stream",
     "text": [
      "435\n"
     ]
    }
   ],
   "source": [
    "# print('1st data',DataSet[2])\n",
    "# print('2nd data',DataSet[0][1])\n",
    "# print('3rd data',DataSet[0])\n",
    "# print('4th data',DataSet[0][3])\n",
    "# print('5th data',DataSet[0][4])\n",
    "# print('6th data',DataSet[0][5])\n",
    "# print('7th data',DataSet[0][6])\n",
    "print(len(DataSet))\n",
    "x = features_append(DataSet)\n",
    "# x = DataSet\n",
    "# df = pd.DataFrame(x)\n",
    "# for i in range(len(x)):\n",
    "#     x[i] = x[i][0]\n",
    "# print('2nd',x[2])"
   ]
  },
  {
   "cell_type": "code",
   "execution_count": 57,
   "id": "d4c6a6e0",
   "metadata": {},
   "outputs": [],
   "source": [
    "X_train, X_test, y_train, y_test = train_test_split(x, all['Labels'], test_size=0.2, random_state=0)"
   ]
  },
  {
   "cell_type": "code",
   "execution_count": 58,
   "id": "a5802e55",
   "metadata": {},
   "outputs": [
    {
     "data": {
      "text/html": [
       "<style>#sk-container-id-3 {color: black;background-color: white;}#sk-container-id-3 pre{padding: 0;}#sk-container-id-3 div.sk-toggleable {background-color: white;}#sk-container-id-3 label.sk-toggleable__label {cursor: pointer;display: block;width: 100%;margin-bottom: 0;padding: 0.3em;box-sizing: border-box;text-align: center;}#sk-container-id-3 label.sk-toggleable__label-arrow:before {content: \"▸\";float: left;margin-right: 0.25em;color: #696969;}#sk-container-id-3 label.sk-toggleable__label-arrow:hover:before {color: black;}#sk-container-id-3 div.sk-estimator:hover label.sk-toggleable__label-arrow:before {color: black;}#sk-container-id-3 div.sk-toggleable__content {max-height: 0;max-width: 0;overflow: hidden;text-align: left;background-color: #f0f8ff;}#sk-container-id-3 div.sk-toggleable__content pre {margin: 0.2em;color: black;border-radius: 0.25em;background-color: #f0f8ff;}#sk-container-id-3 input.sk-toggleable__control:checked~div.sk-toggleable__content {max-height: 200px;max-width: 100%;overflow: auto;}#sk-container-id-3 input.sk-toggleable__control:checked~label.sk-toggleable__label-arrow:before {content: \"▾\";}#sk-container-id-3 div.sk-estimator input.sk-toggleable__control:checked~label.sk-toggleable__label {background-color: #d4ebff;}#sk-container-id-3 div.sk-label input.sk-toggleable__control:checked~label.sk-toggleable__label {background-color: #d4ebff;}#sk-container-id-3 input.sk-hidden--visually {border: 0;clip: rect(1px 1px 1px 1px);clip: rect(1px, 1px, 1px, 1px);height: 1px;margin: -1px;overflow: hidden;padding: 0;position: absolute;width: 1px;}#sk-container-id-3 div.sk-estimator {font-family: monospace;background-color: #f0f8ff;border: 1px dotted black;border-radius: 0.25em;box-sizing: border-box;margin-bottom: 0.5em;}#sk-container-id-3 div.sk-estimator:hover {background-color: #d4ebff;}#sk-container-id-3 div.sk-parallel-item::after {content: \"\";width: 100%;border-bottom: 1px solid gray;flex-grow: 1;}#sk-container-id-3 div.sk-label:hover label.sk-toggleable__label {background-color: #d4ebff;}#sk-container-id-3 div.sk-serial::before {content: \"\";position: absolute;border-left: 1px solid gray;box-sizing: border-box;top: 0;bottom: 0;left: 50%;z-index: 0;}#sk-container-id-3 div.sk-serial {display: flex;flex-direction: column;align-items: center;background-color: white;padding-right: 0.2em;padding-left: 0.2em;position: relative;}#sk-container-id-3 div.sk-item {position: relative;z-index: 1;}#sk-container-id-3 div.sk-parallel {display: flex;align-items: stretch;justify-content: center;background-color: white;position: relative;}#sk-container-id-3 div.sk-item::before, #sk-container-id-3 div.sk-parallel-item::before {content: \"\";position: absolute;border-left: 1px solid gray;box-sizing: border-box;top: 0;bottom: 0;left: 50%;z-index: -1;}#sk-container-id-3 div.sk-parallel-item {display: flex;flex-direction: column;z-index: 1;position: relative;background-color: white;}#sk-container-id-3 div.sk-parallel-item:first-child::after {align-self: flex-end;width: 50%;}#sk-container-id-3 div.sk-parallel-item:last-child::after {align-self: flex-start;width: 50%;}#sk-container-id-3 div.sk-parallel-item:only-child::after {width: 0;}#sk-container-id-3 div.sk-dashed-wrapped {border: 1px dashed gray;margin: 0 0.4em 0.5em 0.4em;box-sizing: border-box;padding-bottom: 0.4em;background-color: white;}#sk-container-id-3 div.sk-label label {font-family: monospace;font-weight: bold;display: inline-block;line-height: 1.2em;}#sk-container-id-3 div.sk-label-container {text-align: center;}#sk-container-id-3 div.sk-container {/* jupyter's `normalize.less` sets `[hidden] { display: none; }` but bootstrap.min.css set `[hidden] { display: none !important; }` so we also need the `!important` here to be able to override the default hidden behavior on the sphinx rendered scikit-learn.org. See: https://github.com/scikit-learn/scikit-learn/issues/21755 */display: inline-block !important;position: relative;}#sk-container-id-3 div.sk-text-repr-fallback {display: none;}</style><div id=\"sk-container-id-3\" class=\"sk-top-container\"><div class=\"sk-text-repr-fallback\"><pre>RandomForestClassifier(n_estimators=40, random_state=0)</pre><b>In a Jupyter environment, please rerun this cell to show the HTML representation or trust the notebook. <br />On GitHub, the HTML representation is unable to render, please try loading this page with nbviewer.org.</b></div><div class=\"sk-container\" hidden><div class=\"sk-item\"><div class=\"sk-estimator sk-toggleable\"><input class=\"sk-toggleable__control sk-hidden--visually\" id=\"sk-estimator-id-3\" type=\"checkbox\" checked><label for=\"sk-estimator-id-3\" class=\"sk-toggleable__label sk-toggleable__label-arrow\">RandomForestClassifier</label><div class=\"sk-toggleable__content\"><pre>RandomForestClassifier(n_estimators=40, random_state=0)</pre></div></div></div></div></div>"
      ],
      "text/plain": [
       "RandomForestClassifier(n_estimators=40, random_state=0)"
      ]
     },
     "execution_count": 58,
     "metadata": {},
     "output_type": "execute_result"
    }
   ],
   "source": [
    "clf = RandomForestClassifier(random_state=0, n_estimators=40)\n",
    "clf.fit(X_train,y_train.values.ravel())"
   ]
  },
  {
   "cell_type": "code",
   "execution_count": 59,
   "id": "ce35fcc9",
   "metadata": {},
   "outputs": [],
   "source": [
    "y_pred = clf.predict(X_test)"
   ]
  },
  {
   "cell_type": "code",
   "execution_count": 60,
   "id": "7e06cebf",
   "metadata": {},
   "outputs": [
    {
     "data": {
      "text/plain": [
       "array([1, 0, 1, 0, 0, 1, 1, 0, 1, 0, 1, 1, 0, 1, 1, 1, 0, 1, 1, 0, 1, 0,\n",
       "       0, 1, 0, 0, 0, 1, 0, 0, 1, 0, 0, 1, 1, 1, 1, 0, 1, 1, 0, 0, 0, 0,\n",
       "       1, 0, 1, 1, 0, 1, 1, 0, 1, 0, 0, 0, 0, 0, 0, 1, 1, 0, 1, 1, 1, 1,\n",
       "       1, 0, 1, 1, 1, 1, 0, 0, 1, 0, 0, 0, 1, 0, 0, 1, 1, 1, 1, 1, 0],\n",
       "      dtype=int64)"
      ]
     },
     "execution_count": 60,
     "metadata": {},
     "output_type": "execute_result"
    }
   ],
   "source": [
    "clf.predict(X_test)"
   ]
  },
  {
   "cell_type": "code",
   "execution_count": 61,
   "id": "49bd77c3",
   "metadata": {},
   "outputs": [
    {
     "data": {
      "text/plain": [
       "153    1\n",
       "264    0\n",
       "54     1\n",
       "355    0\n",
       "428    0\n",
       "      ..\n",
       "52     1\n",
       "74     1\n",
       "26     1\n",
       "45     1\n",
       "272    0\n",
       "Name: Labels, Length: 87, dtype: int64"
      ]
     },
     "execution_count": 61,
     "metadata": {},
     "output_type": "execute_result"
    }
   ],
   "source": [
    "y_test"
   ]
  },
  {
   "cell_type": "code",
   "execution_count": 62,
   "id": "5e16a016",
   "metadata": {},
   "outputs": [
    {
     "name": "stdout",
     "output_type": "stream",
     "text": [
      "0.8850574712643678\n"
     ]
    }
   ],
   "source": [
    "a = accuracy_score(y_pred, y_test)\n",
    "print(a)"
   ]
  },
  {
   "cell_type": "code",
   "execution_count": 63,
   "id": "59207127",
   "metadata": {},
   "outputs": [
    {
     "data": {
      "text/plain": [
       "array([1, 1, 1, 1, 1, 1, 0, 1, 1, 1, 1, 1], dtype=int64)"
      ]
     },
     "execution_count": 63,
     "metadata": {},
     "output_type": "execute_result"
    }
   ],
   "source": [
    "clf.predict(x[:12])"
   ]
  },
  {
   "cell_type": "code",
   "execution_count": 64,
   "id": "04479da1",
   "metadata": {},
   "outputs": [
    {
     "data": {
      "text/plain": [
       "0     1\n",
       "1     1\n",
       "2     1\n",
       "3     1\n",
       "4     1\n",
       "5     1\n",
       "6     1\n",
       "7     1\n",
       "8     1\n",
       "9     1\n",
       "10    1\n",
       "11    1\n",
       "Name: Labels, dtype: int64"
      ]
     },
     "execution_count": 64,
     "metadata": {},
     "output_type": "execute_result"
    }
   ],
   "source": [
    "all['Labels'][:12]"
   ]
  },
  {
   "cell_type": "code",
   "execution_count": 65,
   "id": "43638590",
   "metadata": {},
   "outputs": [
    {
     "name": "stdout",
     "output_type": "stream",
     "text": [
      "Length 46\n"
     ]
    }
   ],
   "source": [
    "newTest = os.listdir(\"AllRecords/Test/\")\n",
    "Test = pd.DataFrame(newTest, columns={\"Paths\"})\n",
    "get_feat = Test.apply(Extract_features, whichone='Test', axis=1)\n",
    "combine = features_append(get_feat)\n",
    "# print(combine[0])\n",
    "print(\"Length\", len(combine[0]))"
   ]
  },
  {
   "cell_type": "code",
   "execution_count": 66,
   "id": "efda6071",
   "metadata": {},
   "outputs": [
    {
     "data": {
      "text/plain": [
       "array([0, 1, 0, 0, 0, 0, 0, 1, 0, 1, 0, 1], dtype=int64)"
      ]
     },
     "execution_count": 66,
     "metadata": {},
     "output_type": "execute_result"
    }
   ],
   "source": [
    "clf.predict(combine)"
   ]
  },
  {
   "cell_type": "code",
   "execution_count": 67,
   "id": "7f99dfd1",
   "metadata": {},
   "outputs": [],
   "source": [
    "pickle.dump(clf, open(\"Sentence-model.pkl\", 'wb'))"
   ]
  },
  {
   "cell_type": "code",
   "execution_count": null,
   "id": "6aa21aa2",
   "metadata": {},
   "outputs": [],
   "source": []
  }
 ],
 "metadata": {
  "kernelspec": {
   "display_name": "Python 3.10.4 64-bit",
   "language": "python",
   "name": "python3"
  },
  "language_info": {
   "codemirror_mode": {
    "name": "ipython",
    "version": 3
   },
   "file_extension": ".py",
   "mimetype": "text/x-python",
   "name": "python",
   "nbconvert_exporter": "python",
   "pygments_lexer": "ipython3",
   "version": "3.10.4"
  },
  "vscode": {
   "interpreter": {
    "hash": "369f2c481f4da34e4445cda3fffd2e751bd1c4d706f27375911949ba6bb62e1c"
   }
  }
 },
 "nbformat": 4,
 "nbformat_minor": 5
}
