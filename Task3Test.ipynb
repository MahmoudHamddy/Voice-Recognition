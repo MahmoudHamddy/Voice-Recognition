{
 "cells": [
  {
   "cell_type": "code",
   "execution_count": 1,
   "id": "fc9c971e",
   "metadata": {},
   "outputs": [],
   "source": [
    "import numpy as np\n",
    "import pandas as pd\n",
    "import librosa\n",
    "import sklearn\n",
    "import os\n",
    "import pickle\n",
    "from sklearn.ensemble import RandomForestClassifier\n",
    "from sklearn.model_selection import train_test_split\n",
    "from sklearn.metrics import accuracy_score"
   ]
  },
  {
   "cell_type": "code",
   "execution_count": 2,
   "id": "1ef3bf19",
   "metadata": {},
   "outputs": [],
   "source": [
    "# names = []\n",
    "# Letter_names = [\"M\", \"S\", \"B\", \"Y\"]\n",
    "# for letter in Letter_names:\n",
    "#     for index in range(15):\n",
    "#         names.append({'file':\"{0}_open_({1}).wav\".format(letter, index), 'label':\"{0}\".format(letter)})\n",
    "# file_name = pd.DataFrame(names)\n",
    "# print(file_name)"
   ]
  },
  {
   "cell_type": "code",
   "execution_count": 3,
   "id": "e4e3518c",
   "metadata": {},
   "outputs": [
    {
     "name": "stdout",
     "output_type": "stream",
     "text": [
      "                        Paths  Labels\n",
      "0    AuphonicRecording_16.wav       0\n",
      "1    AuphonicRecording_17.wav       0\n",
      "2    AuphonicRecording_18.wav       0\n",
      "3    AuphonicRecording_19.wav       0\n",
      "4    AuphonicRecording_20.wav       0\n",
      "..                        ...     ...\n",
      "169            r_open_(5).wav       0\n",
      "170            r_open_(6).wav       0\n",
      "171            r_open_(7).wav       0\n",
      "172            r_open_(8).wav       0\n",
      "173            r_open_(9).wav       0\n",
      "\n",
      "[174 rows x 2 columns]\n"
     ]
    }
   ],
   "source": [
    "Names = os.listdir(\"AllRecords//Others\")\n",
    "Others_Names_df = pd.DataFrame(Names, columns={'Paths'})\n",
    "Others_Names_df.insert(1, \"Labels\", len(Names) *[0])\n",
    "print(Others_Names_df)"
   ]
  },
  {
   "cell_type": "code",
   "execution_count": 4,
   "id": "6fa2944c",
   "metadata": {},
   "outputs": [
    {
     "name": "stdout",
     "output_type": "stream",
     "text": [
      "                          Paths  Labels\n",
      "0    Mahmoud Recording (10).wav       1\n",
      "1    Mahmoud Recording (11).wav       1\n",
      "2    Mahmoud Recording (12).wav       1\n",
      "3    Mahmoud Recording (13).wav       1\n",
      "4    Mahmoud Recording (14).wav       1\n",
      "..                          ...     ...\n",
      "217              r_open_(5).wav       0\n",
      "218              r_open_(6).wav       0\n",
      "219              r_open_(7).wav       0\n",
      "220              r_open_(8).wav       0\n",
      "221              r_open_(9).wav       0\n",
      "\n",
      "[222 rows x 2 columns]\n"
     ]
    },
    {
     "name": "stderr",
     "output_type": "stream",
     "text": [
      "C:\\Users\\mahmo\\AppData\\Local\\Temp\\ipykernel_6696\\886542709.py:9: FutureWarning: The frame.append method is deprecated and will be removed from pandas in a future version. Use pandas.concat instead.\n",
      "  Team_df = Team_df.append(Team,ignore_index=True)\n",
      "C:\\Users\\mahmo\\AppData\\Local\\Temp\\ipykernel_6696\\886542709.py:11: FutureWarning: The frame.append method is deprecated and will be removed from pandas in a future version. Use pandas.concat instead.\n",
      "  labels = labels.append([iterator]*len(Team),ignore_index=True)\n",
      "C:\\Users\\mahmo\\AppData\\Local\\Temp\\ipykernel_6696\\886542709.py:24: FutureWarning: The frame.append method is deprecated and will be removed from pandas in a future version. Use pandas.concat instead.\n",
      "  all = Team_df.append(Others_Names_df, ignore_index=True)\n"
     ]
    }
   ],
   "source": [
    "#Getting Team information\n",
    "team_members = ['Mahmoud Hamdy','Sherif', 'yassmen']\n",
    "iterator = 0\n",
    "Team_df = pd.DataFrame()\n",
    "labels = pd.DataFrame()\n",
    "for member in team_members:\n",
    "    iterator += 1\n",
    "    Team = os.listdir(\"AllRecords/Team/{0}/Open_the_door\".format(member))\n",
    "    Team_df = Team_df.append(Team,ignore_index=True)\n",
    "    #Team_df.insert(1, \"Label\", [iterator]*len(Team))\n",
    "    labels = labels.append([iterator]*len(Team),ignore_index=True)\n",
    "# Team_df.insert(1, \"Label\", labels)\n",
    "# Data = {\n",
    "#     \"Paths\": names,\n",
    "#     \"Labels\": labels\n",
    "# }\n",
    "# Team_df = pd.DataFrame(Data)\n",
    "labels = labels.rename(columns={0:\"Labels\"})\n",
    "Team_df = Team_df.rename(columns={0:\"Paths\"})\n",
    "# print(labels)\n",
    "# print(Team_df)\n",
    "Team_df = pd.concat([Team_df,labels], axis=1)\n",
    "# print(Team_df)\n",
    "all = Team_df.append(Others_Names_df, ignore_index=True)\n",
    "print(all)"
   ]
  },
  {
   "cell_type": "code",
   "execution_count": 5,
   "id": "601884ed",
   "metadata": {},
   "outputs": [],
   "source": [
    "def Extract_features(paths, whichone, dowhat = ''):\n",
    "    # print(paths)\n",
    "    # path = os.listdir(\"AllRecords/{0}/{1}/{2}\".format(whichone, dowhat, paths[\"Paths\"]))\n",
    "    # try:\n",
    "    path = os.path.join(os.path.abspath('AllRecords/{0}').format(whichone)+ ('\\\\') +str(paths['Paths']))\n",
    "    X, sample_rate = librosa.load(path, res_type = \"kaiser_fast\")\n",
    "    # except:\n",
    "    #     print(paths[\"Paths\"])   Voices_frequencies\n",
    "    # print(path)\n",
    "    # mfccs = np.mean(librosa.feature.mfcc(Voices_frequencies, sample_rate, n_mfcc = 40).T, axis = 0)\n",
    "    # mel = np.mean(librosa.feature.melspectrogram(Voices_frequencies, sample_rate).T, axis = 0)\n",
    "    # tonnetz = np.mean(librosa.feature.tonnetz(librosa.effects.harmonic(Voices_frequencies), sample_rate).T, axis = 0)\n",
    "    # frequencies_in_stft = np.abs(librosa.stft(Voices_frequencies))\n",
    "    # chroma = np.mean(librosa.feature.chroma_stft(frequencies_in_stft, sample_rate).T, axis = 0)\n",
    "    # contrast = np.mean(librosa.feature.spectral_contrast(frequencies_in_stft, sample_rate).T, axis = 0)\n",
    "    # label = paths['Labels']\n",
    "    # return mfccs, mel, tonnetz, chroma, contrast, label\n",
    "    # Generate Mel-frequency cepstral coefficients (MFCCs) from a time series \n",
    "    mfccs = np.mean(librosa.feature.mfcc(y=X, sr=sample_rate, n_mfcc=40).T,axis=0)\n",
    "\n",
    "    # Generates a Short-time Fourier transform (STFT) to use in the chroma_stft\n",
    "    stft = np.abs(librosa.stft(X))\n",
    "\n",
    "    # Computes a chromagram from a waveform or power spectrogram.\n",
    "    chroma = np.mean(librosa.feature.chroma_stft(S=stft, sr=sample_rate).T,axis=0)\n",
    "\n",
    "    # Computes a mel-scaled spectrogram.\n",
    "    mel = np.mean(librosa.feature.melspectrogram(X, sr=sample_rate).T,axis=0)\n",
    "\n",
    "    # Computes spectral contrast\n",
    "    contrast = np.mean(librosa.feature.spectral_contrast(S=stft, sr=sample_rate).T,axis=0)\n",
    "\n",
    "    # Computes the tonal centroid features (tonnetz)\n",
    "    tonnetz = np.mean(librosa.feature.tonnetz(y=librosa.effects.harmonic(X),\n",
    "    sr=sample_rate).T,axis=0)\n",
    "        \n",
    "    \n",
    "    # We add also the classes of each file as a label at the end\n",
    "    return [mfccs, chroma, mel, contrast, tonnetz]\n",
    "# def extract_features(files):\n",
    "    \n",
    "#     # Sets the name to be the path to where the file is in my computer\n",
    "#     file_name = os.path.join(os.path.abspath('all')+'/'+str(files.file))\n",
    "\n",
    "#     # Loads the audio file as a floating point time series and assigns the default sample rate\n",
    "#     # Sample rate is set to 22050 by default\n",
    "#     X, sample_rate = librosa.load(file_name, res_type='kaiser_fast') \n",
    "\n",
    "#     # Generate Mel-frequency cepstral coefficients (MFCCs) from a time series \n",
    "#     mfccs = np.mean(librosa.feature.mfcc(y=X, sr=sample_rate, n_mfcc=40).T,axis=0)\n",
    "\n",
    "#     # Generates a Short-time Fourier transform (STFT) to use in the chroma_stft\n",
    "#     stft = np.abs(librosa.stft(X))\n",
    "\n",
    "#     # Computes a chromagram from a waveform or power spectrogram.\n",
    "#     chroma = np.mean(librosa.feature.chroma_stft(S=stft, sr=sample_rate).T,axis=0)\n",
    "\n",
    "#     # Computes a mel-scaled spectrogram.\n",
    "#     mel = np.mean(librosa.feature.melspectrogram(X, sr=sample_rate).T,axis=0)\n",
    "\n",
    "#     # Computes spectral contrast\n",
    "#     contrast = np.mean(librosa.feature.spectral_contrast(S=stft, sr=sample_rate).T,axis=0)\n",
    "\n",
    "#     # Computes the tonal centroid features (tonnetz)\n",
    "#     tonnetz = np.mean(librosa.feature.tonnetz(y=librosa.effects.harmonic(X),\n",
    "#     sr=sample_rate).T,axis=0)\n",
    "        \n",
    "    \n",
    "#     # We add also the classes of each file as a label at the end\n",
    "#     label = files.label\n",
    "\n",
    "#     return mfccs, chroma, mel, contrast, tonnetz, label\n"
   ]
  },
  {
   "cell_type": "code",
   "execution_count": 6,
   "id": "49a73412",
   "metadata": {},
   "outputs": [
    {
     "name": "stderr",
     "output_type": "stream",
     "text": [
      "c:\\Python310\\lib\\site-packages\\librosa\\core\\spectrum.py:222: UserWarning: n_fft=1024 is too small for input signal of length=672\n",
      "  warnings.warn(\n",
      "c:\\Python310\\lib\\site-packages\\librosa\\core\\spectrum.py:222: UserWarning: n_fft=1024 is too small for input signal of length=662\n",
      "  warnings.warn(\n",
      "c:\\Python310\\lib\\site-packages\\librosa\\core\\spectrum.py:222: UserWarning: n_fft=1024 is too small for input signal of length=659\n",
      "  warnings.warn(\n",
      "c:\\Python310\\lib\\site-packages\\librosa\\core\\spectrum.py:222: UserWarning: n_fft=1024 is too small for input signal of length=693\n",
      "  warnings.warn(\n",
      "c:\\Python310\\lib\\site-packages\\librosa\\core\\spectrum.py:222: UserWarning: n_fft=1024 is too small for input signal of length=762\n",
      "  warnings.warn(\n",
      "c:\\Python310\\lib\\site-packages\\librosa\\core\\spectrum.py:222: UserWarning: n_fft=1024 is too small for input signal of length=700\n",
      "  warnings.warn(\n",
      "c:\\Python310\\lib\\site-packages\\librosa\\core\\spectrum.py:222: UserWarning: n_fft=1024 is too small for input signal of length=717\n",
      "  warnings.warn(\n",
      "c:\\Python310\\lib\\site-packages\\librosa\\core\\spectrum.py:222: UserWarning: n_fft=1024 is too small for input signal of length=703\n",
      "  warnings.warn(\n",
      "c:\\Python310\\lib\\site-packages\\librosa\\core\\spectrum.py:222: UserWarning: n_fft=1024 is too small for input signal of length=741\n",
      "  warnings.warn(\n",
      "c:\\Python310\\lib\\site-packages\\librosa\\core\\spectrum.py:222: UserWarning: n_fft=1024 is too small for input signal of length=734\n",
      "  warnings.warn(\n",
      "c:\\Python310\\lib\\site-packages\\librosa\\core\\spectrum.py:222: UserWarning: n_fft=1024 is too small for input signal of length=779\n",
      "  warnings.warn(\n",
      "c:\\Python310\\lib\\site-packages\\librosa\\core\\spectrum.py:222: UserWarning: n_fft=1024 is too small for input signal of length=690\n",
      "  warnings.warn(\n",
      "c:\\Python310\\lib\\site-packages\\librosa\\core\\spectrum.py:222: UserWarning: n_fft=1024 is too small for input signal of length=938\n",
      "  warnings.warn(\n",
      "c:\\Python310\\lib\\site-packages\\librosa\\core\\spectrum.py:222: UserWarning: n_fft=1024 is too small for input signal of length=745\n",
      "  warnings.warn(\n",
      "c:\\Python310\\lib\\site-packages\\librosa\\core\\spectrum.py:222: UserWarning: n_fft=1024 is too small for input signal of length=993\n",
      "  warnings.warn(\n",
      "c:\\Python310\\lib\\site-packages\\librosa\\core\\spectrum.py:222: UserWarning: n_fft=1024 is too small for input signal of length=827\n",
      "  warnings.warn(\n",
      "c:\\Python310\\lib\\site-packages\\librosa\\core\\spectrum.py:222: UserWarning: n_fft=1024 is too small for input signal of length=772\n",
      "  warnings.warn(\n",
      "c:\\Python310\\lib\\site-packages\\librosa\\core\\spectrum.py:222: UserWarning: n_fft=1024 is too small for input signal of length=882\n",
      "  warnings.warn(\n",
      "c:\\Python310\\lib\\site-packages\\librosa\\core\\spectrum.py:222: UserWarning: n_fft=1024 is too small for input signal of length=855\n",
      "  warnings.warn(\n",
      "c:\\Python310\\lib\\site-packages\\librosa\\core\\spectrum.py:222: UserWarning: n_fft=1024 is too small for input signal of length=634\n",
      "  warnings.warn(\n",
      "c:\\Python310\\lib\\site-packages\\librosa\\core\\spectrum.py:222: UserWarning: n_fft=1024 is too small for input signal of length=524\n",
      "  warnings.warn(\n",
      "c:\\Python310\\lib\\site-packages\\librosa\\core\\spectrum.py:222: UserWarning: n_fft=1024 is too small for input signal of length=497\n",
      "  warnings.warn(\n",
      "c:\\Python310\\lib\\site-packages\\librosa\\core\\spectrum.py:222: UserWarning: n_fft=1024 is too small for input signal of length=607\n",
      "  warnings.warn(\n",
      "c:\\Python310\\lib\\site-packages\\librosa\\core\\spectrum.py:222: UserWarning: n_fft=1024 is too small for input signal of length=441\n",
      "  warnings.warn(\n",
      "c:\\Python310\\lib\\site-packages\\librosa\\core\\spectrum.py:222: UserWarning: n_fft=1024 is too small for input signal of length=469\n",
      "  warnings.warn(\n",
      "c:\\Python310\\lib\\site-packages\\librosa\\core\\spectrum.py:222: UserWarning: n_fft=1024 is too small for input signal of length=552\n",
      "  warnings.warn(\n",
      "c:\\Python310\\lib\\site-packages\\librosa\\core\\spectrum.py:222: UserWarning: n_fft=1024 is too small for input signal of length=579\n",
      "  warnings.warn(\n",
      "c:\\Python310\\lib\\site-packages\\librosa\\core\\spectrum.py:222: UserWarning: n_fft=1024 is too small for input signal of length=655\n",
      "  warnings.warn(\n",
      "c:\\Python310\\lib\\site-packages\\librosa\\core\\spectrum.py:222: UserWarning: n_fft=1024 is too small for input signal of length=780\n",
      "  warnings.warn(\n",
      "c:\\Python310\\lib\\site-packages\\librosa\\core\\spectrum.py:222: UserWarning: n_fft=1024 is too small for input signal of length=985\n",
      "  warnings.warn(\n",
      "c:\\Python310\\lib\\site-packages\\librosa\\core\\spectrum.py:222: UserWarning: n_fft=1024 is too small for input signal of length=633\n",
      "  warnings.warn(\n",
      "c:\\Python310\\lib\\site-packages\\librosa\\core\\spectrum.py:222: UserWarning: n_fft=1024 is too small for input signal of length=574\n",
      "  warnings.warn(\n",
      "c:\\Python310\\lib\\site-packages\\librosa\\core\\spectrum.py:222: UserWarning: n_fft=1024 is too small for input signal of length=530\n",
      "  warnings.warn(\n",
      "c:\\Python310\\lib\\site-packages\\librosa\\core\\spectrum.py:222: UserWarning: n_fft=1024 is too small for input signal of length=611\n",
      "  warnings.warn(\n",
      "c:\\Python310\\lib\\site-packages\\librosa\\core\\spectrum.py:222: UserWarning: n_fft=1024 is too small for input signal of length=853\n",
      "  warnings.warn(\n",
      "c:\\Python310\\lib\\site-packages\\librosa\\core\\spectrum.py:222: UserWarning: n_fft=1024 is too small for input signal of length=934\n",
      "  warnings.warn(\n",
      "c:\\Python310\\lib\\site-packages\\librosa\\core\\spectrum.py:222: UserWarning: n_fft=1024 is too small for input signal of length=963\n",
      "  warnings.warn(\n",
      "c:\\Python310\\lib\\site-packages\\librosa\\core\\spectrum.py:222: UserWarning: n_fft=1024 is too small for input signal of length=677\n",
      "  warnings.warn(\n",
      "c:\\Python310\\lib\\site-packages\\librosa\\core\\spectrum.py:222: UserWarning: n_fft=1024 is too small for input signal of length=515\n",
      "  warnings.warn(\n",
      "c:\\Python310\\lib\\site-packages\\librosa\\core\\spectrum.py:222: UserWarning: n_fft=1024 is too small for input signal of length=949\n",
      "  warnings.warn(\n",
      "c:\\Python310\\lib\\site-packages\\librosa\\core\\spectrum.py:222: UserWarning: n_fft=1024 is too small for input signal of length=728\n",
      "  warnings.warn(\n",
      "c:\\Python310\\lib\\site-packages\\librosa\\core\\spectrum.py:222: UserWarning: n_fft=1024 is too small for input signal of length=809\n",
      "  warnings.warn(\n",
      "c:\\Python310\\lib\\site-packages\\librosa\\core\\spectrum.py:222: UserWarning: n_fft=1024 is too small for input signal of length=1007\n",
      "  warnings.warn(\n",
      "c:\\Python310\\lib\\site-packages\\librosa\\core\\spectrum.py:222: UserWarning: n_fft=1024 is too small for input signal of length=824\n",
      "  warnings.warn(\n",
      "c:\\Python310\\lib\\site-packages\\librosa\\core\\spectrum.py:222: UserWarning: n_fft=1024 is too small for input signal of length=971\n",
      "  warnings.warn(\n",
      "c:\\Python310\\lib\\site-packages\\librosa\\core\\spectrum.py:222: UserWarning: n_fft=1024 is too small for input signal of length=618\n",
      "  warnings.warn(\n",
      "c:\\Python310\\lib\\site-packages\\librosa\\core\\spectrum.py:222: UserWarning: n_fft=1024 is too small for input signal of length=1000\n",
      "  warnings.warn(\n",
      "c:\\Python310\\lib\\site-packages\\librosa\\core\\spectrum.py:222: UserWarning: n_fft=1024 is too small for input signal of length=956\n",
      "  warnings.warn(\n",
      "c:\\Python310\\lib\\site-packages\\librosa\\core\\spectrum.py:222: UserWarning: n_fft=1024 is too small for input signal of length=941\n",
      "  warnings.warn(\n",
      "c:\\Python310\\lib\\site-packages\\librosa\\core\\spectrum.py:222: UserWarning: n_fft=1024 is too small for input signal of length=1015\n",
      "  warnings.warn(\n",
      "c:\\Python310\\lib\\site-packages\\librosa\\core\\spectrum.py:222: UserWarning: n_fft=1024 is too small for input signal of length=800\n",
      "  warnings.warn(\n",
      "c:\\Python310\\lib\\site-packages\\librosa\\core\\spectrum.py:222: UserWarning: n_fft=1024 is too small for input signal of length=965\n",
      "  warnings.warn(\n",
      "c:\\Python310\\lib\\site-packages\\librosa\\core\\spectrum.py:222: UserWarning: n_fft=1024 is too small for input signal of length=1020\n",
      "  warnings.warn(\n",
      "c:\\Python310\\lib\\site-packages\\librosa\\core\\spectrum.py:222: UserWarning: n_fft=1024 is too small for input signal of length=851\n",
      "  warnings.warn(\n",
      "c:\\Python310\\lib\\site-packages\\librosa\\core\\spectrum.py:222: UserWarning: n_fft=1024 is too small for input signal of length=738\n",
      "  warnings.warn(\n",
      "c:\\Python310\\lib\\site-packages\\librosa\\core\\spectrum.py:222: UserWarning: n_fft=1024 is too small for input signal of length=903\n",
      "  warnings.warn(\n",
      "c:\\Python310\\lib\\site-packages\\librosa\\core\\spectrum.py:222: UserWarning: n_fft=1024 is too small for input signal of length=910\n",
      "  warnings.warn(\n",
      "c:\\Python310\\lib\\site-packages\\librosa\\core\\spectrum.py:222: UserWarning: n_fft=1024 is too small for input signal of length=786\n",
      "  warnings.warn(\n",
      "c:\\Python310\\lib\\site-packages\\librosa\\core\\spectrum.py:222: UserWarning: n_fft=1024 is too small for input signal of length=614\n",
      "  warnings.warn(\n",
      "c:\\Python310\\lib\\site-packages\\librosa\\core\\spectrum.py:222: UserWarning: n_fft=1024 is too small for input signal of length=931\n",
      "  warnings.warn(\n",
      "c:\\Python310\\lib\\site-packages\\librosa\\core\\spectrum.py:222: UserWarning: n_fft=1024 is too small for input signal of length=466\n",
      "  warnings.warn(\n",
      "c:\\Python310\\lib\\site-packages\\librosa\\core\\spectrum.py:222: UserWarning: n_fft=1024 is too small for input signal of length=748\n",
      "  warnings.warn(\n",
      "c:\\Python310\\lib\\site-packages\\librosa\\core\\spectrum.py:222: UserWarning: n_fft=1024 is too small for input signal of length=769\n",
      "  warnings.warn(\n",
      "c:\\Python310\\lib\\site-packages\\librosa\\core\\spectrum.py:222: UserWarning: n_fft=1024 is too small for input signal of length=500\n",
      "  warnings.warn(\n",
      "c:\\Python310\\lib\\site-packages\\librosa\\core\\spectrum.py:222: UserWarning: n_fft=1024 is too small for input signal of length=820\n",
      "  warnings.warn(\n",
      "c:\\Python310\\lib\\site-packages\\librosa\\core\\spectrum.py:222: UserWarning: n_fft=1024 is too small for input signal of length=845\n",
      "  warnings.warn(\n",
      "c:\\Python310\\lib\\site-packages\\librosa\\core\\spectrum.py:222: UserWarning: n_fft=1024 is too small for input signal of length=968\n",
      "  warnings.warn(\n",
      "c:\\Python310\\lib\\site-packages\\librosa\\core\\spectrum.py:222: UserWarning: n_fft=1024 is too small for input signal of length=612\n",
      "  warnings.warn(\n",
      "c:\\Python310\\lib\\site-packages\\librosa\\core\\spectrum.py:222: UserWarning: n_fft=1024 is too small for input signal of length=588\n",
      "  warnings.warn(\n",
      "c:\\Python310\\lib\\site-packages\\librosa\\core\\spectrum.py:222: UserWarning: n_fft=1024 is too small for input signal of length=877\n",
      "  warnings.warn(\n",
      "c:\\Python310\\lib\\site-packages\\librosa\\core\\spectrum.py:222: UserWarning: n_fft=1024 is too small for input signal of length=836\n",
      "  warnings.warn(\n",
      "c:\\Python310\\lib\\site-packages\\librosa\\core\\spectrum.py:222: UserWarning: n_fft=1024 is too small for input signal of length=761\n",
      "  warnings.warn(\n",
      "c:\\Python310\\lib\\site-packages\\librosa\\core\\spectrum.py:222: UserWarning: n_fft=1024 is too small for input signal of length=1009\n",
      "  warnings.warn(\n",
      "c:\\Python310\\lib\\site-packages\\librosa\\core\\spectrum.py:222: UserWarning: n_fft=1024 is too small for input signal of length=927\n",
      "  warnings.warn(\n",
      "c:\\Python310\\lib\\site-packages\\librosa\\core\\spectrum.py:222: UserWarning: n_fft=1024 is too small for input signal of length=912\n",
      "  warnings.warn(\n",
      "c:\\Python310\\lib\\site-packages\\librosa\\core\\spectrum.py:222: UserWarning: n_fft=1024 is too small for input signal of length=706\n",
      "  warnings.warn(\n",
      "c:\\Python310\\lib\\site-packages\\librosa\\core\\spectrum.py:222: UserWarning: n_fft=1024 is too small for input signal of length=794\n",
      "  warnings.warn(\n",
      "c:\\Python310\\lib\\site-packages\\librosa\\core\\spectrum.py:222: UserWarning: n_fft=1024 is too small for input signal of length=625\n",
      "  warnings.warn(\n",
      "c:\\Python310\\lib\\site-packages\\librosa\\core\\spectrum.py:222: UserWarning: n_fft=1024 is too small for input signal of length=721\n",
      "  warnings.warn(\n",
      "c:\\Python310\\lib\\site-packages\\librosa\\core\\spectrum.py:222: UserWarning: n_fft=1024 is too small for input signal of length=596\n",
      "  warnings.warn(\n",
      "c:\\Python310\\lib\\site-packages\\librosa\\core\\spectrum.py:222: UserWarning: n_fft=1024 is too small for input signal of length=640\n",
      "  warnings.warn(\n",
      "c:\\Python310\\lib\\site-packages\\librosa\\core\\spectrum.py:222: UserWarning: n_fft=1024 is too small for input signal of length=559\n",
      "  warnings.warn(\n",
      "c:\\Python310\\lib\\site-packages\\librosa\\core\\spectrum.py:222: UserWarning: n_fft=1024 is too small for input signal of length=566\n",
      "  warnings.warn(\n",
      "c:\\Python310\\lib\\site-packages\\librosa\\core\\spectrum.py:222: UserWarning: n_fft=1024 is too small for input signal of length=359\n",
      "  warnings.warn(\n"
     ]
    },
    {
     "name": "stdout",
     "output_type": "stream",
     "text": [
      "(5,)\n"
     ]
    },
    {
     "name": "stderr",
     "output_type": "stream",
     "text": [
      "C:\\Users\\mahmo\\AppData\\Local\\Temp\\ipykernel_6696\\3263792091.py:27: VisibleDeprecationWarning: Creating an ndarray from ragged nested sequences (which is a list-or-tuple of lists-or-tuples-or ndarrays with different lengths or shapes) is deprecated. If you meant to do this, you must specify 'dtype=object' when creating the ndarray.\n",
      "  dd = np.array(DataSet[0])\n"
     ]
    }
   ],
   "source": [
    "mfccs = []\n",
    "mel = []\n",
    "tonnetz = []\n",
    "chroma = []\n",
    "contrast = []\n",
    "label_enter = []\n",
    "DataSet = pd.DataFrame()\n",
    "# print(Team_df['Paths'])\n",
    "DataSet = all.apply(Extract_features, whichone=\"AllTeams\", axis=1)\n",
    "# for i in range(len(Team_df)):\n",
    "#     vmfcc, vmel, vtonnetz, vchroma, vcontrast, vlabel = Extract_features(Team_df[i], \"Team\", \"Open_the_door\")\n",
    "#     mel.append(vmel)\n",
    "#     tonnetz.append(vtonnetz)\n",
    "#     chroma.append(vchroma)\n",
    "#     contrast.append(vcontrast)\n",
    "#     label_enter.append(vlabel)\n",
    "#     mfccs.append(vmfcc)\n",
    "# Data = {\n",
    "#     \"mfccs\": mfccs,\n",
    "#     \"mel\": mel,\n",
    "#     \"chroma\": chroma,\n",
    "#     \"tonnetz\": tonnetz,\n",
    "#     \"contrast\": contrast,\n",
    "#     \"Labels\": label_enter\n",
    "# }\n",
    "# DataSet = pd.DataFrame(Data)\n",
    "dd = np.array(DataSet[0])\n",
    "print(dd.shape)"
   ]
  },
  {
   "cell_type": "code",
   "execution_count": 7,
   "id": "415d08b9",
   "metadata": {},
   "outputs": [
    {
     "name": "stdout",
     "output_type": "stream",
     "text": [
      "[array([-5.6601459e+02,  1.3559920e+02, -3.2716188e+00,  1.4285082e+01,\n",
      "        4.3028116e+00, -2.6343584e+00,  5.9902267e+00, -2.0260577e+00,\n",
      "       -1.0903160e+01,  9.2623796e+00, -2.1448741e+00,  2.0591328e+00,\n",
      "        6.2542090e+00, -6.5690720e-01,  6.7364612e+00,  2.0906706e+00,\n",
      "       -1.1721684e+01, -1.9925401e+00, -6.0295572e+00, -8.7338543e+00,\n",
      "       -1.8281145e+00, -4.9330029e+00, -8.7488251e+00, -1.1285790e+00,\n",
      "       -3.0232403e+00, -2.9712000e+00, -4.3046651e+00, -3.7989037e+00,\n",
      "       -6.3605738e-01, -2.9513237e+00, -5.5968219e-01, -7.2163951e-01,\n",
      "       -2.8727169e+00, -1.9239919e+00,  3.5328960e-01, -1.0242617e+00,\n",
      "        4.6082778e+00,  4.6122227e+00,  1.2963264e+00,  1.6458834e+00],\n",
      "      dtype=float32), array([0.55790514, 0.60550046, 0.5673392 , 0.54633534, 0.527548  ,\n",
      "       0.49981943, 0.55150086, 0.49659693, 0.49646065, 0.5933563 ,\n",
      "       0.58242714, 0.52085984], dtype=float32), array([1.8044002e-03, 1.5289659e-03, 8.9376338e-04, 2.7220080e-02,\n",
      "       2.5833210e-01, 2.4044275e-01, 2.5965831e-01, 7.7504098e-02,\n",
      "       2.4160394e-02, 3.9571755e-02, 6.3105850e-03, 3.2374058e-03,\n",
      "       4.1150143e-03, 3.8526598e-02, 3.2738909e-02, 1.6167197e-02,\n",
      "       4.0344268e-02, 9.2153147e-02, 1.5821198e-01, 3.1582037e-01,\n",
      "       4.4948128e-01, 2.9458141e-01, 1.6480562e-01, 8.0429405e-02,\n",
      "       4.6199080e-02, 2.4467295e-02, 2.2982443e-02, 3.8832635e-02,\n",
      "       4.2384785e-02, 1.4361734e-02, 2.0832631e-03, 4.3115634e-03,\n",
      "       1.8372988e-02, 3.4000512e-02, 4.1877642e-02, 1.3881968e-02,\n",
      "       6.3633230e-03, 4.0610945e-03, 1.4527464e-02, 4.8793003e-02,\n",
      "       3.7110154e-02, 7.8231618e-03, 6.1534205e-03, 9.6503170e-03,\n",
      "       6.6943374e-03, 1.3290163e-03, 1.2303515e-03, 1.6404642e-03,\n",
      "       1.8630427e-03, 2.0019102e-03, 7.9704111e-04, 2.7471227e-03,\n",
      "       9.4918655e-03, 2.9191468e-03, 1.6219510e-03, 8.4599416e-04,\n",
      "       1.6828375e-02, 3.1215370e-02, 6.9050072e-04, 1.7771244e-04,\n",
      "       1.2890458e-03, 3.1047817e-03, 1.6089396e-04, 2.1358483e-04,\n",
      "       1.3969993e-03, 5.0088478e-04, 1.9804033e-04, 5.8729388e-04,\n",
      "       4.4811502e-04, 1.7677300e-04, 1.0901025e-03, 6.7360915e-04,\n",
      "       7.4713037e-04, 2.5687446e-03, 8.8568468e-04, 6.5153104e-04,\n",
      "       3.5833858e-03, 3.7064165e-04, 1.9752205e-04, 1.5882739e-04,\n",
      "       8.7967928e-05, 6.4249238e-05, 5.8061116e-05, 1.0327295e-04,\n",
      "       9.0710921e-05, 1.8056159e-04, 2.1639455e-04, 2.3967680e-04,\n",
      "       3.9177711e-04, 3.1866357e-04, 2.5018692e-04, 9.4137831e-05,\n",
      "       1.0370739e-05, 1.7857544e-06, 8.5131433e-07, 3.2605854e-07,\n",
      "       2.5511923e-07, 3.3021018e-07, 3.1515256e-07, 6.5729046e-07,\n",
      "       4.4431826e-07, 5.8780955e-07, 1.4555077e-06, 1.0090649e-06,\n",
      "       1.1874401e-06, 1.8151370e-06, 2.1037292e-06, 8.8901896e-07,\n",
      "       1.4640110e-06, 2.0118177e-06, 5.8514947e-06, 8.3223758e-06,\n",
      "       5.3840718e-06, 2.9545718e-06, 1.3740622e-06, 1.6197757e-06,\n",
      "       2.4201113e-06, 2.0838283e-06, 3.3364977e-06, 1.5828000e-06,\n",
      "       1.1139780e-06, 7.6512197e-07, 2.0913441e-07, 1.1371501e-07,\n",
      "       6.1387432e-08, 2.9545555e-09, 1.3639899e-10, 3.7646483e-11],\n",
      "      dtype=float32), array([21.88055256, 18.09506049, 19.80551673, 18.74293279, 20.09845981,\n",
      "       22.90718513, 38.35606319]), array([-0.011335  , -0.04455326,  0.01022992, -0.0710634 ,  0.01827594,\n",
      "        0.0488047 ])]\n"
     ]
    }
   ],
   "source": [
    "print(DataSet[0])"
   ]
  },
  {
   "cell_type": "code",
   "execution_count": 8,
   "id": "2945ecaa",
   "metadata": {},
   "outputs": [],
   "source": [
    "def features_append(features):\n",
    "    feature = []\n",
    "    for i in range(len(features)):\n",
    "        feature.append(np.concatenate((features[i][0], features[i][1], features[i][2]\n",
    "        , features[i][3],features[i][4])))\n",
    "    return feature\n"
   ]
  },
  {
   "cell_type": "code",
   "execution_count": 9,
   "id": "9dae046b",
   "metadata": {},
   "outputs": [],
   "source": [
    "x = features_append(DataSet)\n",
    "# df = pd.DataFrame(x)\n",
    "# print(df)"
   ]
  },
  {
   "cell_type": "code",
   "execution_count": 10,
   "id": "d4c6a6e0",
   "metadata": {},
   "outputs": [],
   "source": [
    "X_train, X_test, y_train, y_test = train_test_split(x, all['Labels'], test_size=0.2, random_state=0)"
   ]
  },
  {
   "cell_type": "code",
   "execution_count": 11,
   "id": "a5802e55",
   "metadata": {},
   "outputs": [
    {
     "data": {
      "text/html": [
       "<style>#sk-container-id-1 {color: black;background-color: white;}#sk-container-id-1 pre{padding: 0;}#sk-container-id-1 div.sk-toggleable {background-color: white;}#sk-container-id-1 label.sk-toggleable__label {cursor: pointer;display: block;width: 100%;margin-bottom: 0;padding: 0.3em;box-sizing: border-box;text-align: center;}#sk-container-id-1 label.sk-toggleable__label-arrow:before {content: \"▸\";float: left;margin-right: 0.25em;color: #696969;}#sk-container-id-1 label.sk-toggleable__label-arrow:hover:before {color: black;}#sk-container-id-1 div.sk-estimator:hover label.sk-toggleable__label-arrow:before {color: black;}#sk-container-id-1 div.sk-toggleable__content {max-height: 0;max-width: 0;overflow: hidden;text-align: left;background-color: #f0f8ff;}#sk-container-id-1 div.sk-toggleable__content pre {margin: 0.2em;color: black;border-radius: 0.25em;background-color: #f0f8ff;}#sk-container-id-1 input.sk-toggleable__control:checked~div.sk-toggleable__content {max-height: 200px;max-width: 100%;overflow: auto;}#sk-container-id-1 input.sk-toggleable__control:checked~label.sk-toggleable__label-arrow:before {content: \"▾\";}#sk-container-id-1 div.sk-estimator input.sk-toggleable__control:checked~label.sk-toggleable__label {background-color: #d4ebff;}#sk-container-id-1 div.sk-label input.sk-toggleable__control:checked~label.sk-toggleable__label {background-color: #d4ebff;}#sk-container-id-1 input.sk-hidden--visually {border: 0;clip: rect(1px 1px 1px 1px);clip: rect(1px, 1px, 1px, 1px);height: 1px;margin: -1px;overflow: hidden;padding: 0;position: absolute;width: 1px;}#sk-container-id-1 div.sk-estimator {font-family: monospace;background-color: #f0f8ff;border: 1px dotted black;border-radius: 0.25em;box-sizing: border-box;margin-bottom: 0.5em;}#sk-container-id-1 div.sk-estimator:hover {background-color: #d4ebff;}#sk-container-id-1 div.sk-parallel-item::after {content: \"\";width: 100%;border-bottom: 1px solid gray;flex-grow: 1;}#sk-container-id-1 div.sk-label:hover label.sk-toggleable__label {background-color: #d4ebff;}#sk-container-id-1 div.sk-serial::before {content: \"\";position: absolute;border-left: 1px solid gray;box-sizing: border-box;top: 0;bottom: 0;left: 50%;z-index: 0;}#sk-container-id-1 div.sk-serial {display: flex;flex-direction: column;align-items: center;background-color: white;padding-right: 0.2em;padding-left: 0.2em;position: relative;}#sk-container-id-1 div.sk-item {position: relative;z-index: 1;}#sk-container-id-1 div.sk-parallel {display: flex;align-items: stretch;justify-content: center;background-color: white;position: relative;}#sk-container-id-1 div.sk-item::before, #sk-container-id-1 div.sk-parallel-item::before {content: \"\";position: absolute;border-left: 1px solid gray;box-sizing: border-box;top: 0;bottom: 0;left: 50%;z-index: -1;}#sk-container-id-1 div.sk-parallel-item {display: flex;flex-direction: column;z-index: 1;position: relative;background-color: white;}#sk-container-id-1 div.sk-parallel-item:first-child::after {align-self: flex-end;width: 50%;}#sk-container-id-1 div.sk-parallel-item:last-child::after {align-self: flex-start;width: 50%;}#sk-container-id-1 div.sk-parallel-item:only-child::after {width: 0;}#sk-container-id-1 div.sk-dashed-wrapped {border: 1px dashed gray;margin: 0 0.4em 0.5em 0.4em;box-sizing: border-box;padding-bottom: 0.4em;background-color: white;}#sk-container-id-1 div.sk-label label {font-family: monospace;font-weight: bold;display: inline-block;line-height: 1.2em;}#sk-container-id-1 div.sk-label-container {text-align: center;}#sk-container-id-1 div.sk-container {/* jupyter's `normalize.less` sets `[hidden] { display: none; }` but bootstrap.min.css set `[hidden] { display: none !important; }` so we also need the `!important` here to be able to override the default hidden behavior on the sphinx rendered scikit-learn.org. See: https://github.com/scikit-learn/scikit-learn/issues/21755 */display: inline-block !important;position: relative;}#sk-container-id-1 div.sk-text-repr-fallback {display: none;}</style><div id=\"sk-container-id-1\" class=\"sk-top-container\"><div class=\"sk-text-repr-fallback\"><pre>RandomForestClassifier(n_estimators=40, random_state=0)</pre><b>In a Jupyter environment, please rerun this cell to show the HTML representation or trust the notebook. <br />On GitHub, the HTML representation is unable to render, please try loading this page with nbviewer.org.</b></div><div class=\"sk-container\" hidden><div class=\"sk-item\"><div class=\"sk-estimator sk-toggleable\"><input class=\"sk-toggleable__control sk-hidden--visually\" id=\"sk-estimator-id-1\" type=\"checkbox\" checked><label for=\"sk-estimator-id-1\" class=\"sk-toggleable__label sk-toggleable__label-arrow\">RandomForestClassifier</label><div class=\"sk-toggleable__content\"><pre>RandomForestClassifier(n_estimators=40, random_state=0)</pre></div></div></div></div></div>"
      ],
      "text/plain": [
       "RandomForestClassifier(n_estimators=40, random_state=0)"
      ]
     },
     "execution_count": 11,
     "metadata": {},
     "output_type": "execute_result"
    }
   ],
   "source": [
    "clf = RandomForestClassifier(random_state=0, n_estimators=40)\n",
    "clf.fit(X_train,y_train.values.ravel())"
   ]
  },
  {
   "cell_type": "code",
   "execution_count": 12,
   "id": "ce35fcc9",
   "metadata": {},
   "outputs": [],
   "source": [
    "y_pred = clf.predict(X_test)"
   ]
  },
  {
   "cell_type": "code",
   "execution_count": 13,
   "id": "7e06cebf",
   "metadata": {},
   "outputs": [
    {
     "data": {
      "text/plain": [
       "array([0, 0, 0, 0, 0, 0, 3, 0, 0, 1, 0, 3, 1, 0, 0, 0, 0, 0, 0, 0, 0, 0,\n",
       "       0, 0, 0, 1, 0, 0, 0, 0, 0, 0, 0, 0, 1, 0, 0, 1, 0, 0, 0, 0, 0, 0,\n",
       "       0], dtype=int64)"
      ]
     },
     "execution_count": 13,
     "metadata": {},
     "output_type": "execute_result"
    }
   ],
   "source": [
    "clf.predict(X_test)"
   ]
  },
  {
   "cell_type": "code",
   "execution_count": 14,
   "id": "49bd77c3",
   "metadata": {},
   "outputs": [
    {
     "data": {
      "text/plain": [
       "130    0\n",
       "203    0\n",
       "170    0\n",
       "66     0\n",
       "181    0\n",
       "141    0\n",
       "44     3\n",
       "71     0\n",
       "64     0\n",
       "8      1\n",
       "83     0\n",
       "37     3\n",
       "5      1\n",
       "199    0\n",
       "63     0\n",
       "166    0\n",
       "106    0\n",
       "204    0\n",
       "202    0\n",
       "89     0\n",
       "109    0\n",
       "191    0\n",
       "124    0\n",
       "74     0\n",
       "76     0\n",
       "12     1\n",
       "157    0\n",
       "159    0\n",
       "123    0\n",
       "144    0\n",
       "55     0\n",
       "122    0\n",
       "97     0\n",
       "104    0\n",
       "18     1\n",
       "15     1\n",
       "188    0\n",
       "7      1\n",
       "75     0\n",
       "161    0\n",
       "96     0\n",
       "149    0\n",
       "90     0\n",
       "176    0\n",
       "143    0\n",
       "Name: Labels, dtype: int64"
      ]
     },
     "execution_count": 14,
     "metadata": {},
     "output_type": "execute_result"
    }
   ],
   "source": [
    "y_test"
   ]
  },
  {
   "cell_type": "code",
   "execution_count": 15,
   "id": "5e16a016",
   "metadata": {},
   "outputs": [
    {
     "name": "stdout",
     "output_type": "stream",
     "text": [
      "0.9777777777777777\n"
     ]
    }
   ],
   "source": [
    "a = accuracy_score(y_pred, y_test)\n",
    "print(a)"
   ]
  },
  {
   "cell_type": "code",
   "execution_count": 16,
   "id": "59207127",
   "metadata": {},
   "outputs": [
    {
     "data": {
      "text/plain": [
       "array([1, 1, 1, 1, 1, 1, 1, 1, 1, 1, 1, 1], dtype=int64)"
      ]
     },
     "execution_count": 16,
     "metadata": {},
     "output_type": "execute_result"
    }
   ],
   "source": [
    "clf.predict(x[:12])"
   ]
  },
  {
   "cell_type": "code",
   "execution_count": 17,
   "id": "04479da1",
   "metadata": {},
   "outputs": [
    {
     "data": {
      "text/plain": [
       "0     1\n",
       "1     1\n",
       "2     1\n",
       "3     1\n",
       "4     1\n",
       "5     1\n",
       "6     1\n",
       "7     1\n",
       "8     1\n",
       "9     1\n",
       "10    1\n",
       "11    1\n",
       "Name: Labels, dtype: int64"
      ]
     },
     "execution_count": 17,
     "metadata": {},
     "output_type": "execute_result"
    }
   ],
   "source": [
    "all['Labels'][:12]"
   ]
  },
  {
   "cell_type": "code",
   "execution_count": 18,
   "id": "43638590",
   "metadata": {},
   "outputs": [
    {
     "name": "stderr",
     "output_type": "stream",
     "text": [
      "c:\\Python310\\lib\\site-packages\\librosa\\core\\spectrum.py:222: UserWarning: n_fft=1024 is too small for input signal of length=684\n",
      "  warnings.warn(\n",
      "c:\\Python310\\lib\\site-packages\\librosa\\core\\spectrum.py:222: UserWarning: n_fft=1024 is too small for input signal of length=631\n",
      "  warnings.warn(\n",
      "c:\\Python310\\lib\\site-packages\\librosa\\core\\spectrum.py:222: UserWarning: n_fft=1024 is too small for input signal of length=569\n",
      "  warnings.warn(\n",
      "c:\\Python310\\lib\\site-packages\\librosa\\core\\spectrum.py:222: UserWarning: n_fft=1024 is too small for input signal of length=700\n",
      "  warnings.warn(\n",
      "c:\\Python310\\lib\\site-packages\\librosa\\core\\spectrum.py:222: UserWarning: n_fft=1024 is too small for input signal of length=827\n",
      "  warnings.warn(\n",
      "c:\\Python310\\lib\\site-packages\\librosa\\core\\spectrum.py:222: UserWarning: n_fft=1024 is too small for input signal of length=634\n",
      "  warnings.warn(\n"
     ]
    }
   ],
   "source": [
    "newTest = os.listdir(\"AllRecords/Test/\")\n",
    "Test = pd.DataFrame(newTest, columns={\"Paths\"})\n",
    "get_feat = Test.apply(Extract_features, whichone='Test', axis=1)\n",
    "combine = features_append(get_feat)"
   ]
  },
  {
   "cell_type": "code",
   "execution_count": 19,
   "id": "efda6071",
   "metadata": {},
   "outputs": [
    {
     "data": {
      "text/plain": [
       "array([0, 1, 1, 0, 1, 0, 0, 0, 1, 2, 3], dtype=int64)"
      ]
     },
     "execution_count": 19,
     "metadata": {},
     "output_type": "execute_result"
    }
   ],
   "source": [
    "clf.predict(combine)"
   ]
  },
  {
   "cell_type": "code",
   "execution_count": null,
   "id": "7f99dfd1",
   "metadata": {},
   "outputs": [],
   "source": []
  }
 ],
 "metadata": {
  "kernelspec": {
   "display_name": "Python 3.10.4 64-bit",
   "language": "python",
   "name": "python3"
  },
  "language_info": {
   "codemirror_mode": {
    "name": "ipython",
    "version": 3
   },
   "file_extension": ".py",
   "mimetype": "text/x-python",
   "name": "python",
   "nbconvert_exporter": "python",
   "pygments_lexer": "ipython3",
   "version": "3.10.4"
  },
  "vscode": {
   "interpreter": {
    "hash": "369f2c481f4da34e4445cda3fffd2e751bd1c4d706f27375911949ba6bb62e1c"
   }
  }
 },
 "nbformat": 4,
 "nbformat_minor": 5
}
