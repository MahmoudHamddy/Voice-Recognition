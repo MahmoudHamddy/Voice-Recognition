{
 "cells": [
  {
   "cell_type": "code",
   "execution_count": 1,
   "id": "fc9c971e",
   "metadata": {},
   "outputs": [],
   "source": [
    "import numpy as np\n",
    "import pandas as pd\n",
    "import librosa\n",
    "import sklearn\n",
    "import os\n",
    "import pickle\n",
    "from sklearn.ensemble import RandomForestClassifier\n",
    "from sklearn.model_selection import train_test_split\n",
    "from sklearn.metrics import accuracy_score"
   ]
  },
  {
   "cell_type": "code",
   "execution_count": 2,
   "id": "1ef3bf19",
   "metadata": {},
   "outputs": [],
   "source": [
    "# names = []\n",
    "# Letter_names = [\"M\", \"S\", \"B\", \"Y\"]\n",
    "# for letter in Letter_names:\n",
    "#     for index in range(15):\n",
    "#         names.append({'file':\"{0}_open_({1}).wav\".format(letter, index), 'label':\"{0}\".format(letter)})\n",
    "# file_name = pd.DataFrame(names)\n",
    "# print(file_name)"
   ]
  },
  {
   "cell_type": "code",
   "execution_count": 3,
   "id": "e4e3518c",
   "metadata": {},
   "outputs": [
    {
     "name": "stdout",
     "output_type": "stream",
     "text": [
      "                        Paths  Labels\n",
      "0    AuphonicRecording_16.wav       0\n",
      "1    AuphonicRecording_17.wav       0\n",
      "2    AuphonicRecording_18.wav       0\n",
      "3    AuphonicRecording_19.wav       0\n",
      "4    AuphonicRecording_20.wav       0\n",
      "..                        ...     ...\n",
      "169            r_open_(5).wav       0\n",
      "170            r_open_(6).wav       0\n",
      "171            r_open_(7).wav       0\n",
      "172            r_open_(8).wav       0\n",
      "173            r_open_(9).wav       0\n",
      "\n",
      "[174 rows x 2 columns]\n"
     ]
    }
   ],
   "source": [
    "Names = os.listdir(\"AllRecords//Others\")\n",
    "Others_Names_df = pd.DataFrame(Names, columns={'Paths'})\n",
    "Others_Names_df.insert(1, \"Labels\", len(Names) *[0])\n",
    "print(Others_Names_df)"
   ]
  },
  {
   "cell_type": "code",
   "execution_count": 4,
   "id": "6fa2944c",
   "metadata": {},
   "outputs": [
    {
     "name": "stdout",
     "output_type": "stream",
     "text": [
      "                            Paths  Labels\n",
      "0    Mahmoud H Recording (17).wav       1\n",
      "1    Mahmoud H Recording (18).wav       1\n",
      "2    Mahmoud H Recording (19).wav       1\n",
      "3    Mahmoud H Recording (20).wav       1\n",
      "4    Mahmoud H Recording (21).wav       1\n",
      "..                            ...     ...\n",
      "335                r_open_(5).wav       0\n",
      "336                r_open_(6).wav       0\n",
      "337                r_open_(7).wav       0\n",
      "338                r_open_(8).wav       0\n",
      "339                r_open_(9).wav       0\n",
      "\n",
      "[340 rows x 2 columns]\n"
     ]
    },
    {
     "name": "stderr",
     "output_type": "stream",
     "text": [
      "C:\\Users\\mahmo\\AppData\\Local\\Temp\\ipykernel_4424\\2054682965.py:9: FutureWarning: The frame.append method is deprecated and will be removed from pandas in a future version. Use pandas.concat instead.\n",
      "  Team_df = Team_df.append(Team,ignore_index=True)\n",
      "C:\\Users\\mahmo\\AppData\\Local\\Temp\\ipykernel_4424\\2054682965.py:11: FutureWarning: The frame.append method is deprecated and will be removed from pandas in a future version. Use pandas.concat instead.\n",
      "  labels = labels.append([iterator]*len(Team),ignore_index=True)\n",
      "C:\\Users\\mahmo\\AppData\\Local\\Temp\\ipykernel_4424\\2054682965.py:24: FutureWarning: The frame.append method is deprecated and will be removed from pandas in a future version. Use pandas.concat instead.\n",
      "  all = Team_df.append(Others_Names_df, ignore_index=True)\n"
     ]
    }
   ],
   "source": [
    "#Getting Team information\n",
    "team_members = ['Mahmoud Hamdy','Sherif', 'yassmen', 'bassma']\n",
    "iterator = 0\n",
    "Team_df = pd.DataFrame()\n",
    "labels = pd.DataFrame()\n",
    "for member in team_members:\n",
    "    iterator += 1\n",
    "    Team = os.listdir(\"AllRecords/Team/{0}/Open_the_door\".format(member))\n",
    "    Team_df = Team_df.append(Team,ignore_index=True)\n",
    "    #Team_df.insert(1, \"Label\", [iterator]*len(Team))\n",
    "    labels = labels.append([iterator]*len(Team),ignore_index=True)\n",
    "# Team_df.insert(1, \"Label\", labels)\n",
    "# Data = {\n",
    "#     \"Paths\": names,\n",
    "#     \"Labels\": labels\n",
    "# }\n",
    "# Team_df = pd.DataFrame(Data)\n",
    "labels = labels.rename(columns={0:\"Labels\"})\n",
    "Team_df = Team_df.rename(columns={0:\"Paths\"})\n",
    "# print(labels)\n",
    "# print(Team_df)\n",
    "Team_df = pd.concat([Team_df,labels], axis=1)\n",
    "# print(Team_df)\n",
    "all = Team_df.append(Others_Names_df, ignore_index=True)\n",
    "print(all)"
   ]
  },
  {
   "cell_type": "code",
   "execution_count": 5,
   "id": "601884ed",
   "metadata": {},
   "outputs": [],
   "source": [
    "def Extract_features(paths, whichone, dowhat = ''):\n",
    "    # print(paths)\n",
    "    # path = os.listdir(\"AllRecords/{0}/{1}/{2}\".format(whichone, dowhat, paths[\"Paths\"]))\n",
    "    # try:\n",
    "    path = os.path.join(os.path.abspath('AllRecords/{0}').format(whichone)+ ('\\\\') +str(paths['Paths']))\n",
    "    X, sample_rate = librosa.load(path, res_type = \"kaiser_fast\")\n",
    "    # except:\n",
    "    #     print(paths[\"Paths\"])   Voices_frequencies\n",
    "    # print(path)\n",
    "    # mfccs = np.mean(librosa.feature.mfcc(Voices_frequencies, sample_rate, n_mfcc = 40).T, axis = 0)\n",
    "    # mel = np.mean(librosa.feature.melspectrogram(Voices_frequencies, sample_rate).T, axis = 0)\n",
    "    # tonnetz = np.mean(librosa.feature.tonnetz(librosa.effects.harmonic(Voices_frequencies), sample_rate).T, axis = 0)\n",
    "    # frequencies_in_stft = np.abs(librosa.stft(Voices_frequencies))\n",
    "    # chroma = np.mean(librosa.feature.chroma_stft(frequencies_in_stft, sample_rate).T, axis = 0)\n",
    "    # contrast = np.mean(librosa.feature.spectral_contrast(frequencies_in_stft, sample_rate).T, axis = 0)\n",
    "    # label = paths['Labels']\n",
    "    # return mfccs, mel, tonnetz, chroma, contrast, label\n",
    "    # Generate Mel-frequency cepstral coefficients (MFCCs) from a time series \n",
    "    mfccs = np.mean(librosa.feature.mfcc(y=X, sr=sample_rate, n_mfcc=40).T,axis=0)\n",
    "\n",
    "    # Generates a Short-time Fourier transform (STFT) to use in the chroma_stft\n",
    "    stft = np.abs(librosa.stft(X))\n",
    "\n",
    "    # Computes a chromagram from a waveform or power spectrogram.\n",
    "    chroma = np.mean(librosa.feature.chroma_stft(S=stft, sr=sample_rate).T,axis=0)\n",
    "\n",
    "    # Computes a mel-scaled spectrogram.\n",
    "    mel = np.mean(librosa.feature.melspectrogram(X, sr=sample_rate).T,axis=0)\n",
    "\n",
    "    # Computes spectral contrast\n",
    "    contrast = np.mean(librosa.feature.spectral_contrast(S=stft, sr=sample_rate).T,axis=0)\n",
    "\n",
    "    # Computes the tonal centroid features (tonnetz)\n",
    "    tonnetz = np.mean(librosa.feature.tonnetz(y=librosa.effects.harmonic(X),\n",
    "    sr=sample_rate).T,axis=0)\n",
    "        \n",
    "    \n",
    "    # We add also the classes of each file as a label at the end\n",
    "    return [mfccs, chroma, mel, contrast, tonnetz]\n",
    "# def extract_features(files):\n",
    "    \n",
    "#     # Sets the name to be the path to where the file is in my computer\n",
    "#     file_name = os.path.join(os.path.abspath('all')+'/'+str(files.file))\n",
    "\n",
    "#     # Loads the audio file as a floating point time series and assigns the default sample rate\n",
    "#     # Sample rate is set to 22050 by default\n",
    "#     X, sample_rate = librosa.load(file_name, res_type='kaiser_fast') \n",
    "\n",
    "#     # Generate Mel-frequency cepstral coefficients (MFCCs) from a time series \n",
    "#     mfccs = np.mean(librosa.feature.mfcc(y=X, sr=sample_rate, n_mfcc=40).T,axis=0)\n",
    "\n",
    "#     # Generates a Short-time Fourier transform (STFT) to use in the chroma_stft\n",
    "#     stft = np.abs(librosa.stft(X))\n",
    "\n",
    "#     # Computes a chromagram from a waveform or power spectrogram.\n",
    "#     chroma = np.mean(librosa.feature.chroma_stft(S=stft, sr=sample_rate).T,axis=0)\n",
    "\n",
    "#     # Computes a mel-scaled spectrogram.\n",
    "#     mel = np.mean(librosa.feature.melspectrogram(X, sr=sample_rate).T,axis=0)\n",
    "\n",
    "#     # Computes spectral contrast\n",
    "#     contrast = np.mean(librosa.feature.spectral_contrast(S=stft, sr=sample_rate).T,axis=0)\n",
    "\n",
    "#     # Computes the tonal centroid features (tonnetz)\n",
    "#     tonnetz = np.mean(librosa.feature.tonnetz(y=librosa.effects.harmonic(X),\n",
    "#     sr=sample_rate).T,axis=0)\n",
    "        \n",
    "    \n",
    "#     # We add also the classes of each file as a label at the end\n",
    "#     label = files.label\n",
    "\n",
    "#     return mfccs, chroma, mel, contrast, tonnetz, label\n"
   ]
  },
  {
   "cell_type": "code",
   "execution_count": null,
   "id": "49a73412",
   "metadata": {},
   "outputs": [],
   "source": [
    "mfccs = []\n",
    "mel = []\n",
    "tonnetz = []\n",
    "chroma = []\n",
    "contrast = []\n",
    "label_enter = []\n",
    "DataSet = pd.DataFrame()\n",
    "# print(Team_df['Paths'])\n",
    "DataSet = all.apply(Extract_features, whichone=\"AllTeams\", axis=1)\n",
    "# for i in range(len(Team_df)):\n",
    "#     vmfcc, vmel, vtonnetz, vchroma, vcontrast, vlabel = Extract_features(Team_df[i], \"Team\", \"Open_the_door\")\n",
    "#     mel.append(vmel)\n",
    "#     tonnetz.append(vtonnetz)\n",
    "#     chroma.append(vchroma)\n",
    "#     contrast.append(vcontrast)\n",
    "#     label_enter.append(vlabel)\n",
    "#     mfccs.append(vmfcc)\n",
    "# Data = {\n",
    "#     \"mfccs\": mfccs,\n",
    "#     \"mel\": mel,\n",
    "#     \"chroma\": chroma,\n",
    "#     \"tonnetz\": tonnetz,\n",
    "#     \"contrast\": contrast,\n",
    "#     \"Labels\": label_enter\n",
    "# }\n",
    "# DataSet = pd.DataFrame(Data)\n",
    "dd = np.array(DataSet[0])\n",
    "print(dd.shape)"
   ]
  },
  {
   "cell_type": "code",
   "execution_count": null,
   "id": "415d08b9",
   "metadata": {},
   "outputs": [],
   "source": [
    "print(DataSet[0])"
   ]
  },
  {
   "cell_type": "code",
   "execution_count": 8,
   "id": "2945ecaa",
   "metadata": {},
   "outputs": [],
   "source": [
    "def features_append(features):\n",
    "    feature = []\n",
    "    for i in range(len(features)):\n",
    "        feature.append(np.concatenate((features[i][0], features[i][1], features[i][2]\n",
    "        , features[i][3],features[i][4])))\n",
    "    return feature\n"
   ]
  },
  {
   "cell_type": "code",
   "execution_count": 9,
   "id": "9dae046b",
   "metadata": {},
   "outputs": [],
   "source": [
    "x = features_append(DataSet)\n",
    "# df = pd.DataFrame(x)\n",
    "# print(df)"
   ]
  },
  {
   "cell_type": "code",
   "execution_count": 10,
   "id": "d4c6a6e0",
   "metadata": {},
   "outputs": [],
   "source": [
    "X_train, X_test, y_train, y_test = train_test_split(x, all['Labels'], test_size=0.2, random_state=0)"
   ]
  },
  {
   "cell_type": "code",
   "execution_count": 11,
   "id": "a5802e55",
   "metadata": {},
   "outputs": [
    {
     "data": {
      "text/html": [
       "<style>#sk-container-id-1 {color: black;background-color: white;}#sk-container-id-1 pre{padding: 0;}#sk-container-id-1 div.sk-toggleable {background-color: white;}#sk-container-id-1 label.sk-toggleable__label {cursor: pointer;display: block;width: 100%;margin-bottom: 0;padding: 0.3em;box-sizing: border-box;text-align: center;}#sk-container-id-1 label.sk-toggleable__label-arrow:before {content: \"▸\";float: left;margin-right: 0.25em;color: #696969;}#sk-container-id-1 label.sk-toggleable__label-arrow:hover:before {color: black;}#sk-container-id-1 div.sk-estimator:hover label.sk-toggleable__label-arrow:before {color: black;}#sk-container-id-1 div.sk-toggleable__content {max-height: 0;max-width: 0;overflow: hidden;text-align: left;background-color: #f0f8ff;}#sk-container-id-1 div.sk-toggleable__content pre {margin: 0.2em;color: black;border-radius: 0.25em;background-color: #f0f8ff;}#sk-container-id-1 input.sk-toggleable__control:checked~div.sk-toggleable__content {max-height: 200px;max-width: 100%;overflow: auto;}#sk-container-id-1 input.sk-toggleable__control:checked~label.sk-toggleable__label-arrow:before {content: \"▾\";}#sk-container-id-1 div.sk-estimator input.sk-toggleable__control:checked~label.sk-toggleable__label {background-color: #d4ebff;}#sk-container-id-1 div.sk-label input.sk-toggleable__control:checked~label.sk-toggleable__label {background-color: #d4ebff;}#sk-container-id-1 input.sk-hidden--visually {border: 0;clip: rect(1px 1px 1px 1px);clip: rect(1px, 1px, 1px, 1px);height: 1px;margin: -1px;overflow: hidden;padding: 0;position: absolute;width: 1px;}#sk-container-id-1 div.sk-estimator {font-family: monospace;background-color: #f0f8ff;border: 1px dotted black;border-radius: 0.25em;box-sizing: border-box;margin-bottom: 0.5em;}#sk-container-id-1 div.sk-estimator:hover {background-color: #d4ebff;}#sk-container-id-1 div.sk-parallel-item::after {content: \"\";width: 100%;border-bottom: 1px solid gray;flex-grow: 1;}#sk-container-id-1 div.sk-label:hover label.sk-toggleable__label {background-color: #d4ebff;}#sk-container-id-1 div.sk-serial::before {content: \"\";position: absolute;border-left: 1px solid gray;box-sizing: border-box;top: 0;bottom: 0;left: 50%;z-index: 0;}#sk-container-id-1 div.sk-serial {display: flex;flex-direction: column;align-items: center;background-color: white;padding-right: 0.2em;padding-left: 0.2em;position: relative;}#sk-container-id-1 div.sk-item {position: relative;z-index: 1;}#sk-container-id-1 div.sk-parallel {display: flex;align-items: stretch;justify-content: center;background-color: white;position: relative;}#sk-container-id-1 div.sk-item::before, #sk-container-id-1 div.sk-parallel-item::before {content: \"\";position: absolute;border-left: 1px solid gray;box-sizing: border-box;top: 0;bottom: 0;left: 50%;z-index: -1;}#sk-container-id-1 div.sk-parallel-item {display: flex;flex-direction: column;z-index: 1;position: relative;background-color: white;}#sk-container-id-1 div.sk-parallel-item:first-child::after {align-self: flex-end;width: 50%;}#sk-container-id-1 div.sk-parallel-item:last-child::after {align-self: flex-start;width: 50%;}#sk-container-id-1 div.sk-parallel-item:only-child::after {width: 0;}#sk-container-id-1 div.sk-dashed-wrapped {border: 1px dashed gray;margin: 0 0.4em 0.5em 0.4em;box-sizing: border-box;padding-bottom: 0.4em;background-color: white;}#sk-container-id-1 div.sk-label label {font-family: monospace;font-weight: bold;display: inline-block;line-height: 1.2em;}#sk-container-id-1 div.sk-label-container {text-align: center;}#sk-container-id-1 div.sk-container {/* jupyter's `normalize.less` sets `[hidden] { display: none; }` but bootstrap.min.css set `[hidden] { display: none !important; }` so we also need the `!important` here to be able to override the default hidden behavior on the sphinx rendered scikit-learn.org. See: https://github.com/scikit-learn/scikit-learn/issues/21755 */display: inline-block !important;position: relative;}#sk-container-id-1 div.sk-text-repr-fallback {display: none;}</style><div id=\"sk-container-id-1\" class=\"sk-top-container\"><div class=\"sk-text-repr-fallback\"><pre>RandomForestClassifier(n_estimators=40, random_state=0)</pre><b>In a Jupyter environment, please rerun this cell to show the HTML representation or trust the notebook. <br />On GitHub, the HTML representation is unable to render, please try loading this page with nbviewer.org.</b></div><div class=\"sk-container\" hidden><div class=\"sk-item\"><div class=\"sk-estimator sk-toggleable\"><input class=\"sk-toggleable__control sk-hidden--visually\" id=\"sk-estimator-id-1\" type=\"checkbox\" checked><label for=\"sk-estimator-id-1\" class=\"sk-toggleable__label sk-toggleable__label-arrow\">RandomForestClassifier</label><div class=\"sk-toggleable__content\"><pre>RandomForestClassifier(n_estimators=40, random_state=0)</pre></div></div></div></div></div>"
      ],
      "text/plain": [
       "RandomForestClassifier(n_estimators=40, random_state=0)"
      ]
     },
     "execution_count": 11,
     "metadata": {},
     "output_type": "execute_result"
    }
   ],
   "source": [
    "clf = RandomForestClassifier(random_state=0, n_estimators=40)\n",
    "clf.fit(X_train,y_train.values.ravel())"
   ]
  },
  {
   "cell_type": "code",
   "execution_count": 12,
   "id": "ce35fcc9",
   "metadata": {},
   "outputs": [],
   "source": [
    "y_pred = clf.predict(X_test)"
   ]
  },
  {
   "cell_type": "code",
   "execution_count": 13,
   "id": "7e06cebf",
   "metadata": {},
   "outputs": [
    {
     "data": {
      "text/plain": [
       "array([0, 0, 0, 0, 0, 2, 1, 0, 2, 0, 0, 2, 2, 2, 0, 0, 1, 0, 2, 1, 4, 0,\n",
       "       0, 2, 0, 0, 2, 4, 4, 0, 0, 0, 3, 0, 4, 4, 3, 3, 0, 0, 4, 2, 2, 2,\n",
       "       0, 0, 4, 2, 0, 1, 0, 2, 4, 0, 0, 4, 0, 0, 1, 1, 0, 3, 1, 4, 2, 4,\n",
       "       2, 3], dtype=int64)"
      ]
     },
     "execution_count": 13,
     "metadata": {},
     "output_type": "execute_result"
    }
   ],
   "source": [
    "clf.predict(X_test)"
   ]
  },
  {
   "cell_type": "code",
   "execution_count": 14,
   "id": "49bd77c3",
   "metadata": {},
   "outputs": [
    {
     "data": {
      "text/plain": [
       "225    0\n",
       "271    0\n",
       "204    0\n",
       "274    0\n",
       "299    0\n",
       "      ..\n",
       "135    4\n",
       "65     2\n",
       "134    4\n",
       "66     2\n",
       "100    3\n",
       "Name: Labels, Length: 68, dtype: int64"
      ]
     },
     "execution_count": 14,
     "metadata": {},
     "output_type": "execute_result"
    }
   ],
   "source": [
    "y_test"
   ]
  },
  {
   "cell_type": "code",
   "execution_count": 15,
   "id": "5e16a016",
   "metadata": {},
   "outputs": [
    {
     "name": "stdout",
     "output_type": "stream",
     "text": [
      "0.9705882352941176\n"
     ]
    }
   ],
   "source": [
    "a = accuracy_score(y_pred, y_test)\n",
    "print(a)"
   ]
  },
  {
   "cell_type": "code",
   "execution_count": 16,
   "id": "59207127",
   "metadata": {},
   "outputs": [
    {
     "data": {
      "text/plain": [
       "array([1, 1, 1, 1, 1, 1, 1, 1, 1, 1, 1, 1], dtype=int64)"
      ]
     },
     "execution_count": 16,
     "metadata": {},
     "output_type": "execute_result"
    }
   ],
   "source": [
    "clf.predict(x[:12])"
   ]
  },
  {
   "cell_type": "code",
   "execution_count": 17,
   "id": "04479da1",
   "metadata": {},
   "outputs": [
    {
     "data": {
      "text/plain": [
       "0     1\n",
       "1     1\n",
       "2     1\n",
       "3     1\n",
       "4     1\n",
       "5     1\n",
       "6     1\n",
       "7     1\n",
       "8     1\n",
       "9     1\n",
       "10    1\n",
       "11    1\n",
       "Name: Labels, dtype: int64"
      ]
     },
     "execution_count": 17,
     "metadata": {},
     "output_type": "execute_result"
    }
   ],
   "source": [
    "all['Labels'][:12]"
   ]
  },
  {
   "cell_type": "code",
   "execution_count": 18,
   "id": "43638590",
   "metadata": {},
   "outputs": [
    {
     "name": "stderr",
     "output_type": "stream",
     "text": [
      "c:\\Python310\\lib\\site-packages\\librosa\\core\\spectrum.py:222: UserWarning: n_fft=1024 is too small for input signal of length=986\n",
      "  warnings.warn(\n",
      "c:\\Python310\\lib\\site-packages\\librosa\\core\\spectrum.py:222: UserWarning: n_fft=1024 is too small for input signal of length=493\n",
      "  warnings.warn(\n",
      "c:\\Python310\\lib\\site-packages\\librosa\\core\\spectrum.py:222: UserWarning: n_fft=1024 is too small for input signal of length=869\n",
      "  warnings.warn(\n",
      "c:\\Python310\\lib\\site-packages\\librosa\\core\\spectrum.py:222: UserWarning: n_fft=1024 is too small for input signal of length=724\n",
      "  warnings.warn(\n",
      "c:\\Python310\\lib\\site-packages\\librosa\\core\\spectrum.py:222: UserWarning: n_fft=1024 is too small for input signal of length=362\n",
      "  warnings.warn(\n",
      "c:\\Python310\\lib\\site-packages\\librosa\\core\\spectrum.py:222: UserWarning: n_fft=1024 is too small for input signal of length=831\n",
      "  warnings.warn(\n",
      "c:\\Python310\\lib\\site-packages\\librosa\\core\\spectrum.py:222: UserWarning: n_fft=1024 is too small for input signal of length=979\n",
      "  warnings.warn(\n",
      "c:\\Python310\\lib\\site-packages\\librosa\\core\\spectrum.py:222: UserWarning: n_fft=1024 is too small for input signal of length=490\n",
      "  warnings.warn(\n",
      "c:\\Python310\\lib\\site-packages\\librosa\\core\\spectrum.py:222: UserWarning: n_fft=1024 is too small for input signal of length=710\n",
      "  warnings.warn(\n",
      "c:\\Python310\\lib\\site-packages\\librosa\\core\\spectrum.py:222: UserWarning: n_fft=1024 is too small for input signal of length=355\n",
      "  warnings.warn(\n",
      "c:\\Python310\\lib\\site-packages\\librosa\\core\\spectrum.py:222: UserWarning: n_fft=1024 is too small for input signal of length=814\n",
      "  warnings.warn(\n",
      "c:\\Python310\\lib\\site-packages\\librosa\\core\\spectrum.py:222: UserWarning: n_fft=1024 is too small for input signal of length=407\n",
      "  warnings.warn(\n",
      "c:\\Python310\\lib\\site-packages\\librosa\\core\\spectrum.py:222: UserWarning: n_fft=1024 is too small for input signal of length=690\n",
      "  warnings.warn(\n",
      "c:\\Python310\\lib\\site-packages\\librosa\\core\\spectrum.py:222: UserWarning: n_fft=1024 is too small for input signal of length=524\n",
      "  warnings.warn(\n"
     ]
    }
   ],
   "source": [
    "newTest = os.listdir(\"AllRecords/Test/\")\n",
    "Test = pd.DataFrame(newTest, columns={\"Paths\"})\n",
    "get_feat = Test.apply(Extract_features, whichone='Test', axis=1)\n",
    "combine = features_append(get_feat)"
   ]
  },
  {
   "cell_type": "code",
   "execution_count": 19,
   "id": "efda6071",
   "metadata": {},
   "outputs": [
    {
     "data": {
      "text/plain": [
       "array([4, 0, 0, 1, 0, 1, 1, 1, 1, 1, 2, 4, 3], dtype=int64)"
      ]
     },
     "execution_count": 19,
     "metadata": {},
     "output_type": "execute_result"
    }
   ],
   "source": [
    "clf.predict(combine)"
   ]
  },
  {
   "cell_type": "code",
   "execution_count": 20,
   "id": "7f99dfd1",
   "metadata": {},
   "outputs": [],
   "source": [
    "pickle.dump(clf, open(\"Speech2-model.pkl\", 'wb'))"
   ]
  },
  {
   "cell_type": "code",
   "execution_count": null,
   "id": "6aa21aa2",
   "metadata": {},
   "outputs": [],
   "source": []
  }
 ],
 "metadata": {
  "kernelspec": {
   "display_name": "Python 3.10.4 64-bit",
   "language": "python",
   "name": "python3"
  },
  "language_info": {
   "codemirror_mode": {
    "name": "ipython",
    "version": 3
   },
   "file_extension": ".py",
   "mimetype": "text/x-python",
   "name": "python",
   "nbconvert_exporter": "python",
   "pygments_lexer": "ipython3",
   "version": "3.10.4 (tags/v3.10.4:9d38120, Mar 23 2022, 23:13:41) [MSC v.1929 64 bit (AMD64)]"
  },
  "vscode": {
   "interpreter": {
    "hash": "369f2c481f4da34e4445cda3fffd2e751bd1c4d706f27375911949ba6bb62e1c"
   }
  }
 },
 "nbformat": 4,
 "nbformat_minor": 5
}
