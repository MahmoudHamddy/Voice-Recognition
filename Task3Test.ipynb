{
 "cells": [
  {
   "cell_type": "code",
   "execution_count": 21,
   "id": "fc9c971e",
   "metadata": {},
   "outputs": [],
   "source": [
    "import numpy as np\n",
    "import pandas as pd\n",
    "import librosa\n",
    "import sklearn\n",
    "import os\n",
    "import pickle\n",
    "from sklearn.ensemble import RandomForestClassifier\n",
    "from sklearn.model_selection import train_test_split\n",
    "from sklearn.metrics import accuracy_score"
   ]
  },
  {
   "cell_type": "code",
   "execution_count": 22,
   "id": "1ef3bf19",
   "metadata": {},
   "outputs": [],
   "source": [
    "# names = []\n",
    "# Letter_names = [\"M\", \"S\", \"B\", \"Y\"]\n",
    "# for letter in Letter_names:\n",
    "#     for index in range(15):\n",
    "#         names.append({'file':\"{0}_open_({1}).wav\".format(letter, index), 'label':\"{0}\".format(letter)})\n",
    "# file_name = pd.DataFrame(names)\n",
    "# print(file_name)"
   ]
  },
  {
   "cell_type": "code",
   "execution_count": 23,
   "id": "e4e3518c",
   "metadata": {},
   "outputs": [
    {
     "name": "stdout",
     "output_type": "stream",
     "text": [
      "                        Paths  Labels\n",
      "0    AuphonicRecording_16.wav       0\n",
      "1    AuphonicRecording_17.wav       0\n",
      "2    AuphonicRecording_18.wav       0\n",
      "3    AuphonicRecording_19.wav       0\n",
      "4    AuphonicRecording_20.wav       0\n",
      "..                        ...     ...\n",
      "169            r_open_(5).wav       0\n",
      "170            r_open_(6).wav       0\n",
      "171            r_open_(7).wav       0\n",
      "172            r_open_(8).wav       0\n",
      "173            r_open_(9).wav       0\n",
      "\n",
      "[174 rows x 2 columns]\n"
     ]
    }
   ],
   "source": [
    "Names = os.listdir(\"AllRecords//Others\")\n",
    "Others_Names_df = pd.DataFrame(Names, columns={'Paths'})\n",
    "Others_Names_df.insert(1, \"Labels\", len(Names) *[0])\n",
    "print(Others_Names_df)"
   ]
  },
  {
   "cell_type": "code",
   "execution_count": 48,
   "id": "6fa2944c",
   "metadata": {},
   "outputs": [
    {
     "name": "stdout",
     "output_type": "stream",
     "text": [
      "                            Paths  Labels\n",
      "0    Mahmoud H Recording (17).wav       1\n",
      "1    Mahmoud H Recording (18).wav       1\n",
      "2    Mahmoud H Recording (19).wav       1\n",
      "3    Mahmoud H Recording (20).wav       1\n",
      "4    Mahmoud H Recording (21).wav       1\n",
      "..                            ...     ...\n",
      "321                r_open_(5).wav       0\n",
      "322                r_open_(6).wav       0\n",
      "323                r_open_(7).wav       0\n",
      "324                r_open_(8).wav       0\n",
      "325                r_open_(9).wav       0\n",
      "\n",
      "[326 rows x 2 columns]\n"
     ]
    },
    {
     "name": "stderr",
     "output_type": "stream",
     "text": [
      "C:\\Users\\mahmo\\AppData\\Local\\Temp\\ipykernel_17512\\2054682965.py:9: FutureWarning: The frame.append method is deprecated and will be removed from pandas in a future version. Use pandas.concat instead.\n",
      "  Team_df = Team_df.append(Team,ignore_index=True)\n",
      "C:\\Users\\mahmo\\AppData\\Local\\Temp\\ipykernel_17512\\2054682965.py:11: FutureWarning: The frame.append method is deprecated and will be removed from pandas in a future version. Use pandas.concat instead.\n",
      "  labels = labels.append([iterator]*len(Team),ignore_index=True)\n",
      "C:\\Users\\mahmo\\AppData\\Local\\Temp\\ipykernel_17512\\2054682965.py:24: FutureWarning: The frame.append method is deprecated and will be removed from pandas in a future version. Use pandas.concat instead.\n",
      "  all = Team_df.append(Others_Names_df, ignore_index=True)\n"
     ]
    }
   ],
   "source": [
    "#Getting Team information\n",
    "team_members = ['Mahmoud Hamdy','Sherif', 'yassmen', 'bassma']\n",
    "iterator = 0\n",
    "Team_df = pd.DataFrame()\n",
    "labels = pd.DataFrame()\n",
    "for member in team_members:\n",
    "    iterator += 1\n",
    "    Team = os.listdir(\"AllRecords/Team/{0}/Open_the_door\".format(member))\n",
    "    Team_df = Team_df.append(Team,ignore_index=True)\n",
    "    #Team_df.insert(1, \"Label\", [iterator]*len(Team))\n",
    "    labels = labels.append([iterator]*len(Team),ignore_index=True)\n",
    "# Team_df.insert(1, \"Label\", labels)\n",
    "# Data = {\n",
    "#     \"Paths\": names,\n",
    "#     \"Labels\": labels\n",
    "# }\n",
    "# Team_df = pd.DataFrame(Data)\n",
    "labels = labels.rename(columns={0:\"Labels\"})\n",
    "Team_df = Team_df.rename(columns={0:\"Paths\"})\n",
    "# print(labels)\n",
    "# print(Team_df)\n",
    "Team_df = pd.concat([Team_df,labels], axis=1)\n",
    "# print(Team_df)\n",
    "all = Team_df.append(Others_Names_df, ignore_index=True)\n",
    "print(all)"
   ]
  },
  {
   "cell_type": "code",
   "execution_count": 49,
   "id": "601884ed",
   "metadata": {},
   "outputs": [],
   "source": [
    "def Extract_features(paths, whichone, dowhat = ''):\n",
    "    # print(paths)\n",
    "    # path = os.listdir(\"AllRecords/{0}/{1}/{2}\".format(whichone, dowhat, paths[\"Paths\"]))\n",
    "    # try:\n",
    "    path = os.path.join(os.path.abspath('AllRecords/{0}').format(whichone)+ ('\\\\') +str(paths['Paths']))\n",
    "    X, sample_rate = librosa.load(path, res_type = \"kaiser_fast\")\n",
    "    # except:\n",
    "    #     print(paths[\"Paths\"])   Voices_frequencies\n",
    "    # print(path)\n",
    "    # mfccs = np.mean(librosa.feature.mfcc(Voices_frequencies, sample_rate, n_mfcc = 40).T, axis = 0)\n",
    "    # mel = np.mean(librosa.feature.melspectrogram(Voices_frequencies, sample_rate).T, axis = 0)\n",
    "    # tonnetz = np.mean(librosa.feature.tonnetz(librosa.effects.harmonic(Voices_frequencies), sample_rate).T, axis = 0)\n",
    "    # frequencies_in_stft = np.abs(librosa.stft(Voices_frequencies))\n",
    "    # chroma = np.mean(librosa.feature.chroma_stft(frequencies_in_stft, sample_rate).T, axis = 0)\n",
    "    # contrast = np.mean(librosa.feature.spectral_contrast(frequencies_in_stft, sample_rate).T, axis = 0)\n",
    "    # label = paths['Labels']\n",
    "    # return mfccs, mel, tonnetz, chroma, contrast, label\n",
    "    # Generate Mel-frequency cepstral coefficients (MFCCs) from a time series \n",
    "    mfccs = np.mean(librosa.feature.mfcc(y=X, sr=sample_rate, n_mfcc=40).T,axis=0)\n",
    "\n",
    "    # Generates a Short-time Fourier transform (STFT) to use in the chroma_stft\n",
    "    stft = np.abs(librosa.stft(X))\n",
    "\n",
    "    # Computes a chromagram from a waveform or power spectrogram.\n",
    "    chroma = np.mean(librosa.feature.chroma_stft(S=stft, sr=sample_rate).T,axis=0)\n",
    "\n",
    "    # Computes a mel-scaled spectrogram.\n",
    "    mel = np.mean(librosa.feature.melspectrogram(X, sr=sample_rate).T,axis=0)\n",
    "\n",
    "    # Computes spectral contrast\n",
    "    contrast = np.mean(librosa.feature.spectral_contrast(S=stft, sr=sample_rate).T,axis=0)\n",
    "\n",
    "    # Computes the tonal centroid features (tonnetz)\n",
    "    tonnetz = np.mean(librosa.feature.tonnetz(y=librosa.effects.harmonic(X),\n",
    "    sr=sample_rate).T,axis=0)\n",
    "        \n",
    "    \n",
    "    # We add also the classes of each file as a label at the end\n",
    "    return [mfccs, chroma, mel, contrast, tonnetz]\n",
    "# def extract_features(files):\n",
    "    \n",
    "#     # Sets the name to be the path to where the file is in my computer\n",
    "#     file_name = os.path.join(os.path.abspath('all')+'/'+str(files.file))\n",
    "\n",
    "#     # Loads the audio file as a floating point time series and assigns the default sample rate\n",
    "#     # Sample rate is set to 22050 by default\n",
    "#     X, sample_rate = librosa.load(file_name, res_type='kaiser_fast') \n",
    "\n",
    "#     # Generate Mel-frequency cepstral coefficients (MFCCs) from a time series \n",
    "#     mfccs = np.mean(librosa.feature.mfcc(y=X, sr=sample_rate, n_mfcc=40).T,axis=0)\n",
    "\n",
    "#     # Generates a Short-time Fourier transform (STFT) to use in the chroma_stft\n",
    "#     stft = np.abs(librosa.stft(X))\n",
    "\n",
    "#     # Computes a chromagram from a waveform or power spectrogram.\n",
    "#     chroma = np.mean(librosa.feature.chroma_stft(S=stft, sr=sample_rate).T,axis=0)\n",
    "\n",
    "#     # Computes a mel-scaled spectrogram.\n",
    "#     mel = np.mean(librosa.feature.melspectrogram(X, sr=sample_rate).T,axis=0)\n",
    "\n",
    "#     # Computes spectral contrast\n",
    "#     contrast = np.mean(librosa.feature.spectral_contrast(S=stft, sr=sample_rate).T,axis=0)\n",
    "\n",
    "#     # Computes the tonal centroid features (tonnetz)\n",
    "#     tonnetz = np.mean(librosa.feature.tonnetz(y=librosa.effects.harmonic(X),\n",
    "#     sr=sample_rate).T,axis=0)\n",
    "        \n",
    "    \n",
    "#     # We add also the classes of each file as a label at the end\n",
    "#     label = files.label\n",
    "\n",
    "#     return mfccs, chroma, mel, contrast, tonnetz, label\n"
   ]
  },
  {
   "cell_type": "code",
   "execution_count": 50,
   "id": "49a73412",
   "metadata": {},
   "outputs": [
    {
     "name": "stderr",
     "output_type": "stream",
     "text": [
      "c:\\Python310\\lib\\site-packages\\librosa\\core\\spectrum.py:222: UserWarning: n_fft=1024 is too small for input signal of length=569\n",
      "  warnings.warn(\n",
      "c:\\Python310\\lib\\site-packages\\librosa\\core\\spectrum.py:222: UserWarning: n_fft=1024 is too small for input signal of length=593\n",
      "  warnings.warn(\n",
      "c:\\Python310\\lib\\site-packages\\librosa\\core\\spectrum.py:222: UserWarning: n_fft=1024 is too small for input signal of length=297\n",
      "  warnings.warn(\n",
      "c:\\Python310\\lib\\site-packages\\librosa\\core\\spectrum.py:222: UserWarning: n_fft=1024 is too small for input signal of length=889\n",
      "  warnings.warn(\n",
      "c:\\Python310\\lib\\site-packages\\librosa\\core\\spectrum.py:222: UserWarning: n_fft=1024 is too small for input signal of length=445\n",
      "  warnings.warn(\n",
      "c:\\Python310\\lib\\site-packages\\librosa\\core\\spectrum.py:222: UserWarning: n_fft=1024 is too small for input signal of length=882\n",
      "  warnings.warn(\n",
      "c:\\Python310\\lib\\site-packages\\librosa\\core\\spectrum.py:222: UserWarning: n_fft=1024 is too small for input signal of length=441\n",
      "  warnings.warn(\n",
      "c:\\Python310\\lib\\site-packages\\librosa\\core\\spectrum.py:222: UserWarning: n_fft=1024 is too small for input signal of length=535\n",
      "  warnings.warn(\n",
      "c:\\Python310\\lib\\site-packages\\librosa\\core\\spectrum.py:222: UserWarning: n_fft=1024 is too small for input signal of length=945\n",
      "  warnings.warn(\n",
      "c:\\Python310\\lib\\site-packages\\librosa\\core\\spectrum.py:222: UserWarning: n_fft=1024 is too small for input signal of length=473\n",
      "  warnings.warn(\n",
      "c:\\Python310\\lib\\site-packages\\librosa\\core\\spectrum.py:222: UserWarning: n_fft=1024 is too small for input signal of length=972\n",
      "  warnings.warn(\n",
      "c:\\Python310\\lib\\site-packages\\librosa\\core\\spectrum.py:222: UserWarning: n_fft=1024 is too small for input signal of length=486\n",
      "  warnings.warn(\n",
      "c:\\Python310\\lib\\site-packages\\librosa\\core\\spectrum.py:222: UserWarning: n_fft=1024 is too small for input signal of length=552\n",
      "  warnings.warn(\n",
      "c:\\Python310\\lib\\site-packages\\librosa\\core\\spectrum.py:222: UserWarning: n_fft=1024 is too small for input signal of length=1013\n",
      "  warnings.warn(\n",
      "c:\\Python310\\lib\\site-packages\\librosa\\core\\spectrum.py:222: UserWarning: n_fft=1024 is too small for input signal of length=507\n",
      "  warnings.warn(\n",
      "c:\\Python310\\lib\\site-packages\\librosa\\core\\spectrum.py:222: UserWarning: n_fft=1024 is too small for input signal of length=951\n",
      "  warnings.warn(\n",
      "c:\\Python310\\lib\\site-packages\\librosa\\core\\spectrum.py:222: UserWarning: n_fft=1024 is too small for input signal of length=476\n",
      "  warnings.warn(\n",
      "c:\\Python310\\lib\\site-packages\\librosa\\core\\spectrum.py:222: UserWarning: n_fft=1024 is too small for input signal of length=566\n",
      "  warnings.warn(\n",
      "c:\\Python310\\lib\\site-packages\\librosa\\core\\spectrum.py:222: UserWarning: n_fft=1024 is too small for input signal of length=917\n",
      "  warnings.warn(\n",
      "c:\\Python310\\lib\\site-packages\\librosa\\core\\spectrum.py:222: UserWarning: n_fft=1024 is too small for input signal of length=459\n",
      "  warnings.warn(\n",
      "c:\\Python310\\lib\\site-packages\\librosa\\core\\spectrum.py:222: UserWarning: n_fft=1024 is too small for input signal of length=841\n",
      "  warnings.warn(\n",
      "c:\\Python310\\lib\\site-packages\\librosa\\core\\spectrum.py:222: UserWarning: n_fft=1024 is too small for input signal of length=421\n",
      "  warnings.warn(\n",
      "c:\\Python310\\lib\\site-packages\\librosa\\core\\spectrum.py:222: UserWarning: n_fft=1024 is too small for input signal of length=793\n",
      "  warnings.warn(\n",
      "c:\\Python310\\lib\\site-packages\\librosa\\core\\spectrum.py:222: UserWarning: n_fft=1024 is too small for input signal of length=397\n",
      "  warnings.warn(\n",
      "c:\\Python310\\lib\\site-packages\\librosa\\core\\spectrum.py:222: UserWarning: n_fft=1024 is too small for input signal of length=848\n",
      "  warnings.warn(\n",
      "c:\\Python310\\lib\\site-packages\\librosa\\core\\spectrum.py:222: UserWarning: n_fft=1024 is too small for input signal of length=424\n",
      "  warnings.warn(\n",
      "c:\\Python310\\lib\\site-packages\\librosa\\core\\spectrum.py:222: UserWarning: n_fft=1024 is too small for input signal of length=986\n",
      "  warnings.warn(\n",
      "c:\\Python310\\lib\\site-packages\\librosa\\core\\spectrum.py:222: UserWarning: n_fft=1024 is too small for input signal of length=493\n",
      "  warnings.warn(\n",
      "c:\\Python310\\lib\\site-packages\\librosa\\core\\spectrum.py:222: UserWarning: n_fft=1024 is too small for input signal of length=672\n",
      "  warnings.warn(\n",
      "c:\\Python310\\lib\\site-packages\\librosa\\core\\spectrum.py:222: UserWarning: n_fft=1024 is too small for input signal of length=662\n",
      "  warnings.warn(\n",
      "c:\\Python310\\lib\\site-packages\\librosa\\core\\spectrum.py:222: UserWarning: n_fft=1024 is too small for input signal of length=659\n",
      "  warnings.warn(\n",
      "c:\\Python310\\lib\\site-packages\\librosa\\core\\spectrum.py:222: UserWarning: n_fft=1024 is too small for input signal of length=693\n",
      "  warnings.warn(\n",
      "c:\\Python310\\lib\\site-packages\\librosa\\core\\spectrum.py:222: UserWarning: n_fft=1024 is too small for input signal of length=762\n",
      "  warnings.warn(\n",
      "c:\\Python310\\lib\\site-packages\\librosa\\core\\spectrum.py:222: UserWarning: n_fft=1024 is too small for input signal of length=700\n",
      "  warnings.warn(\n",
      "c:\\Python310\\lib\\site-packages\\librosa\\core\\spectrum.py:222: UserWarning: n_fft=1024 is too small for input signal of length=717\n",
      "  warnings.warn(\n",
      "c:\\Python310\\lib\\site-packages\\librosa\\core\\spectrum.py:222: UserWarning: n_fft=1024 is too small for input signal of length=703\n",
      "  warnings.warn(\n",
      "c:\\Python310\\lib\\site-packages\\librosa\\core\\spectrum.py:222: UserWarning: n_fft=1024 is too small for input signal of length=741\n",
      "  warnings.warn(\n",
      "c:\\Python310\\lib\\site-packages\\librosa\\core\\spectrum.py:222: UserWarning: n_fft=1024 is too small for input signal of length=734\n",
      "  warnings.warn(\n",
      "c:\\Python310\\lib\\site-packages\\librosa\\core\\spectrum.py:222: UserWarning: n_fft=1024 is too small for input signal of length=779\n",
      "  warnings.warn(\n",
      "c:\\Python310\\lib\\site-packages\\librosa\\core\\spectrum.py:222: UserWarning: n_fft=1024 is too small for input signal of length=690\n",
      "  warnings.warn(\n",
      "c:\\Python310\\lib\\site-packages\\librosa\\core\\spectrum.py:222: UserWarning: n_fft=1024 is too small for input signal of length=938\n",
      "  warnings.warn(\n",
      "c:\\Python310\\lib\\site-packages\\librosa\\core\\spectrum.py:222: UserWarning: n_fft=1024 is too small for input signal of length=745\n",
      "  warnings.warn(\n",
      "c:\\Python310\\lib\\site-packages\\librosa\\core\\spectrum.py:222: UserWarning: n_fft=1024 is too small for input signal of length=993\n",
      "  warnings.warn(\n",
      "c:\\Python310\\lib\\site-packages\\librosa\\core\\spectrum.py:222: UserWarning: n_fft=1024 is too small for input signal of length=1020\n",
      "  warnings.warn(\n",
      "c:\\Python310\\lib\\site-packages\\librosa\\core\\spectrum.py:222: UserWarning: n_fft=1024 is too small for input signal of length=510\n",
      "  warnings.warn(\n",
      "c:\\Python310\\lib\\site-packages\\librosa\\core\\spectrum.py:222: UserWarning: n_fft=1024 is too small for input signal of length=758\n",
      "  warnings.warn(\n",
      "c:\\Python310\\lib\\site-packages\\librosa\\core\\spectrum.py:222: UserWarning: n_fft=1024 is too small for input signal of length=379\n",
      "  warnings.warn(\n",
      "c:\\Python310\\lib\\site-packages\\librosa\\core\\spectrum.py:222: UserWarning: n_fft=1024 is too small for input signal of length=497\n",
      "  warnings.warn(\n",
      "c:\\Python310\\lib\\site-packages\\librosa\\core\\spectrum.py:222: UserWarning: n_fft=1024 is too small for input signal of length=555\n",
      "  warnings.warn(\n",
      "c:\\Python310\\lib\\site-packages\\librosa\\core\\spectrum.py:222: UserWarning: n_fft=1024 is too small for input signal of length=576\n",
      "  warnings.warn(\n",
      "c:\\Python310\\lib\\site-packages\\librosa\\core\\spectrum.py:222: UserWarning: n_fft=1024 is too small for input signal of length=896\n",
      "  warnings.warn(\n",
      "c:\\Python310\\lib\\site-packages\\librosa\\core\\spectrum.py:222: UserWarning: n_fft=1024 is too small for input signal of length=448\n",
      "  warnings.warn(\n",
      "c:\\Python310\\lib\\site-packages\\librosa\\core\\spectrum.py:222: UserWarning: n_fft=1024 is too small for input signal of length=855\n",
      "  warnings.warn(\n",
      "c:\\Python310\\lib\\site-packages\\librosa\\core\\spectrum.py:222: UserWarning: n_fft=1024 is too small for input signal of length=428\n",
      "  warnings.warn(\n",
      "c:\\Python310\\lib\\site-packages\\librosa\\core\\spectrum.py:222: UserWarning: n_fft=1024 is too small for input signal of length=924\n",
      "  warnings.warn(\n",
      "c:\\Python310\\lib\\site-packages\\librosa\\core\\spectrum.py:222: UserWarning: n_fft=1024 is too small for input signal of length=462\n",
      "  warnings.warn(\n",
      "c:\\Python310\\lib\\site-packages\\librosa\\core\\spectrum.py:222: UserWarning: n_fft=1024 is too small for input signal of length=862\n",
      "  warnings.warn(\n",
      "c:\\Python310\\lib\\site-packages\\librosa\\core\\spectrum.py:222: UserWarning: n_fft=1024 is too small for input signal of length=431\n",
      "  warnings.warn(\n",
      "c:\\Python310\\lib\\site-packages\\librosa\\core\\spectrum.py:222: UserWarning: n_fft=1024 is too small for input signal of length=820\n",
      "  warnings.warn(\n",
      "c:\\Python310\\lib\\site-packages\\librosa\\core\\spectrum.py:222: UserWarning: n_fft=1024 is too small for input signal of length=410\n",
      "  warnings.warn(\n",
      "c:\\Python310\\lib\\site-packages\\librosa\\core\\spectrum.py:222: UserWarning: n_fft=1024 is too small for input signal of length=786\n",
      "  warnings.warn(\n",
      "c:\\Python310\\lib\\site-packages\\librosa\\core\\spectrum.py:222: UserWarning: n_fft=1024 is too small for input signal of length=393\n",
      "  warnings.warn(\n",
      "c:\\Python310\\lib\\site-packages\\librosa\\core\\spectrum.py:222: UserWarning: n_fft=1024 is too small for input signal of length=752\n",
      "  warnings.warn(\n",
      "c:\\Python310\\lib\\site-packages\\librosa\\core\\spectrum.py:222: UserWarning: n_fft=1024 is too small for input signal of length=376\n",
      "  warnings.warn(\n",
      "c:\\Python310\\lib\\site-packages\\librosa\\core\\spectrum.py:222: UserWarning: n_fft=1024 is too small for input signal of length=724\n",
      "  warnings.warn(\n",
      "c:\\Python310\\lib\\site-packages\\librosa\\core\\spectrum.py:222: UserWarning: n_fft=1024 is too small for input signal of length=362\n",
      "  warnings.warn(\n",
      "c:\\Python310\\lib\\site-packages\\librosa\\core\\spectrum.py:222: UserWarning: n_fft=1024 is too small for input signal of length=814\n",
      "  warnings.warn(\n",
      "c:\\Python310\\lib\\site-packages\\librosa\\core\\spectrum.py:222: UserWarning: n_fft=1024 is too small for input signal of length=407\n",
      "  warnings.warn(\n",
      "c:\\Python310\\lib\\site-packages\\librosa\\core\\spectrum.py:222: UserWarning: n_fft=1024 is too small for input signal of length=876\n",
      "  warnings.warn(\n",
      "c:\\Python310\\lib\\site-packages\\librosa\\core\\spectrum.py:222: UserWarning: n_fft=1024 is too small for input signal of length=438\n",
      "  warnings.warn(\n",
      "c:\\Python310\\lib\\site-packages\\librosa\\core\\spectrum.py:222: UserWarning: n_fft=1024 is too small for input signal of length=958\n",
      "  warnings.warn(\n",
      "c:\\Python310\\lib\\site-packages\\librosa\\core\\spectrum.py:222: UserWarning: n_fft=1024 is too small for input signal of length=479\n",
      "  warnings.warn(\n",
      "c:\\Python310\\lib\\site-packages\\librosa\\core\\spectrum.py:222: UserWarning: n_fft=1024 is too small for input signal of length=731\n",
      "  warnings.warn(\n",
      "c:\\Python310\\lib\\site-packages\\librosa\\core\\spectrum.py:222: UserWarning: n_fft=1024 is too small for input signal of length=366\n",
      "  warnings.warn(\n",
      "c:\\Python310\\lib\\site-packages\\librosa\\core\\spectrum.py:222: UserWarning: n_fft=1024 is too small for input signal of length=390\n",
      "  warnings.warn(\n",
      "c:\\Python310\\lib\\site-packages\\librosa\\core\\spectrum.py:222: UserWarning: n_fft=1024 is too small for input signal of length=359\n",
      "  warnings.warn(\n",
      "c:\\Python310\\lib\\site-packages\\librosa\\core\\spectrum.py:222: UserWarning: n_fft=1024 is too small for input signal of length=827\n",
      "  warnings.warn(\n",
      "c:\\Python310\\lib\\site-packages\\librosa\\core\\spectrum.py:222: UserWarning: n_fft=1024 is too small for input signal of length=772\n",
      "  warnings.warn(\n",
      "c:\\Python310\\lib\\site-packages\\librosa\\core\\spectrum.py:222: UserWarning: n_fft=1024 is too small for input signal of length=634\n",
      "  warnings.warn(\n",
      "c:\\Python310\\lib\\site-packages\\librosa\\core\\spectrum.py:222: UserWarning: n_fft=1024 is too small for input signal of length=524\n",
      "  warnings.warn(\n",
      "c:\\Python310\\lib\\site-packages\\librosa\\core\\spectrum.py:222: UserWarning: n_fft=1024 is too small for input signal of length=607\n",
      "  warnings.warn(\n",
      "c:\\Python310\\lib\\site-packages\\librosa\\core\\spectrum.py:222: UserWarning: n_fft=1024 is too small for input signal of length=684\n",
      "  warnings.warn(\n",
      "c:\\Python310\\lib\\site-packages\\librosa\\core\\spectrum.py:222: UserWarning: n_fft=1024 is too small for input signal of length=890\n",
      "  warnings.warn(\n",
      "c:\\Python310\\lib\\site-packages\\librosa\\core\\spectrum.py:222: UserWarning: n_fft=1024 is too small for input signal of length=640\n",
      "  warnings.warn(\n",
      "c:\\Python310\\lib\\site-packages\\librosa\\core\\spectrum.py:222: UserWarning: n_fft=1024 is too small for input signal of length=721\n",
      "  warnings.warn(\n",
      "c:\\Python310\\lib\\site-packages\\librosa\\core\\spectrum.py:222: UserWarning: n_fft=1024 is too small for input signal of length=735\n",
      "  warnings.warn(\n",
      "c:\\Python310\\lib\\site-packages\\librosa\\core\\spectrum.py:222: UserWarning: n_fft=1024 is too small for input signal of length=677\n",
      "  warnings.warn(\n",
      "c:\\Python310\\lib\\site-packages\\librosa\\core\\spectrum.py:222: UserWarning: n_fft=1024 is too small for input signal of length=765\n",
      "  warnings.warn(\n",
      "c:\\Python310\\lib\\site-packages\\librosa\\core\\spectrum.py:222: UserWarning: n_fft=1024 is too small for input signal of length=780\n",
      "  warnings.warn(\n",
      "c:\\Python310\\lib\\site-packages\\librosa\\core\\spectrum.py:222: UserWarning: n_fft=1024 is too small for input signal of length=706\n",
      "  warnings.warn(\n",
      "c:\\Python310\\lib\\site-packages\\librosa\\core\\spectrum.py:222: UserWarning: n_fft=1024 is too small for input signal of length=846\n",
      "  warnings.warn(\n",
      "c:\\Python310\\lib\\site-packages\\librosa\\core\\spectrum.py:222: UserWarning: n_fft=1024 is too small for input signal of length=641\n",
      "  warnings.warn(\n",
      "c:\\Python310\\lib\\site-packages\\librosa\\core\\spectrum.py:222: UserWarning: n_fft=1024 is too small for input signal of length=538\n",
      "  warnings.warn(\n",
      "c:\\Python310\\lib\\site-packages\\librosa\\core\\spectrum.py:222: UserWarning: n_fft=1024 is too small for input signal of length=545\n",
      "  warnings.warn(\n",
      "c:\\Python310\\lib\\site-packages\\librosa\\core\\spectrum.py:222: UserWarning: n_fft=1024 is too small for input signal of length=541\n",
      "  warnings.warn(\n",
      "c:\\Python310\\lib\\site-packages\\librosa\\core\\spectrum.py:222: UserWarning: n_fft=1024 is too small for input signal of length=1007\n",
      "  warnings.warn(\n",
      "c:\\Python310\\lib\\site-packages\\librosa\\core\\spectrum.py:222: UserWarning: n_fft=1024 is too small for input signal of length=504\n",
      "  warnings.warn(\n",
      "c:\\Python310\\lib\\site-packages\\librosa\\core\\spectrum.py:222: UserWarning: n_fft=1024 is too small for input signal of length=631\n",
      "  warnings.warn(\n",
      "c:\\Python310\\lib\\site-packages\\librosa\\core\\spectrum.py:222: UserWarning: n_fft=1024 is too small for input signal of length=572\n",
      "  warnings.warn(\n",
      "c:\\Python310\\lib\\site-packages\\librosa\\core\\spectrum.py:222: UserWarning: n_fft=1024 is too small for input signal of length=648\n",
      "  warnings.warn(\n",
      "c:\\Python310\\lib\\site-packages\\librosa\\core\\spectrum.py:222: UserWarning: n_fft=1024 is too small for input signal of length=324\n",
      "  warnings.warn(\n",
      "c:\\Python310\\lib\\site-packages\\librosa\\core\\spectrum.py:222: UserWarning: n_fft=1024 is too small for input signal of length=979\n",
      "  warnings.warn(\n",
      "c:\\Python310\\lib\\site-packages\\librosa\\core\\spectrum.py:222: UserWarning: n_fft=1024 is too small for input signal of length=490\n",
      "  warnings.warn(\n",
      "c:\\Python310\\lib\\site-packages\\librosa\\core\\spectrum.py:222: UserWarning: n_fft=1024 is too small for input signal of length=628\n",
      "  warnings.warn(\n",
      "c:\\Python310\\lib\\site-packages\\librosa\\core\\spectrum.py:222: UserWarning: n_fft=1024 is too small for input signal of length=686\n",
      "  warnings.warn(\n",
      "c:\\Python310\\lib\\site-packages\\librosa\\core\\spectrum.py:222: UserWarning: n_fft=1024 is too small for input signal of length=965\n",
      "  warnings.warn(\n",
      "c:\\Python310\\lib\\site-packages\\librosa\\core\\spectrum.py:222: UserWarning: n_fft=1024 is too small for input signal of length=811\n",
      "  warnings.warn(\n",
      "c:\\Python310\\lib\\site-packages\\librosa\\core\\spectrum.py:222: UserWarning: n_fft=1024 is too small for input signal of length=736\n",
      "  warnings.warn(\n",
      "c:\\Python310\\lib\\site-packages\\librosa\\core\\spectrum.py:222: UserWarning: n_fft=1024 is too small for input signal of length=753\n",
      "  warnings.warn(\n",
      "c:\\Python310\\lib\\site-packages\\librosa\\core\\spectrum.py:222: UserWarning: n_fft=1024 is too small for input signal of length=469\n",
      "  warnings.warn(\n",
      "c:\\Python310\\lib\\site-packages\\librosa\\core\\spectrum.py:222: UserWarning: n_fft=1024 is too small for input signal of length=579\n",
      "  warnings.warn(\n",
      "c:\\Python310\\lib\\site-packages\\librosa\\core\\spectrum.py:222: UserWarning: n_fft=1024 is too small for input signal of length=655\n",
      "  warnings.warn(\n",
      "c:\\Python310\\lib\\site-packages\\librosa\\core\\spectrum.py:222: UserWarning: n_fft=1024 is too small for input signal of length=985\n",
      "  warnings.warn(\n",
      "c:\\Python310\\lib\\site-packages\\librosa\\core\\spectrum.py:222: UserWarning: n_fft=1024 is too small for input signal of length=633\n",
      "  warnings.warn(\n",
      "c:\\Python310\\lib\\site-packages\\librosa\\core\\spectrum.py:222: UserWarning: n_fft=1024 is too small for input signal of length=574\n",
      "  warnings.warn(\n",
      "c:\\Python310\\lib\\site-packages\\librosa\\core\\spectrum.py:222: UserWarning: n_fft=1024 is too small for input signal of length=530\n",
      "  warnings.warn(\n",
      "c:\\Python310\\lib\\site-packages\\librosa\\core\\spectrum.py:222: UserWarning: n_fft=1024 is too small for input signal of length=611\n",
      "  warnings.warn(\n",
      "c:\\Python310\\lib\\site-packages\\librosa\\core\\spectrum.py:222: UserWarning: n_fft=1024 is too small for input signal of length=853\n",
      "  warnings.warn(\n",
      "c:\\Python310\\lib\\site-packages\\librosa\\core\\spectrum.py:222: UserWarning: n_fft=1024 is too small for input signal of length=934\n",
      "  warnings.warn(\n",
      "c:\\Python310\\lib\\site-packages\\librosa\\core\\spectrum.py:222: UserWarning: n_fft=1024 is too small for input signal of length=963\n",
      "  warnings.warn(\n",
      "c:\\Python310\\lib\\site-packages\\librosa\\core\\spectrum.py:222: UserWarning: n_fft=1024 is too small for input signal of length=515\n",
      "  warnings.warn(\n",
      "c:\\Python310\\lib\\site-packages\\librosa\\core\\spectrum.py:222: UserWarning: n_fft=1024 is too small for input signal of length=949\n",
      "  warnings.warn(\n",
      "c:\\Python310\\lib\\site-packages\\librosa\\core\\spectrum.py:222: UserWarning: n_fft=1024 is too small for input signal of length=728\n",
      "  warnings.warn(\n",
      "c:\\Python310\\lib\\site-packages\\librosa\\core\\spectrum.py:222: UserWarning: n_fft=1024 is too small for input signal of length=809\n",
      "  warnings.warn(\n",
      "c:\\Python310\\lib\\site-packages\\librosa\\core\\spectrum.py:222: UserWarning: n_fft=1024 is too small for input signal of length=824\n",
      "  warnings.warn(\n",
      "c:\\Python310\\lib\\site-packages\\librosa\\core\\spectrum.py:222: UserWarning: n_fft=1024 is too small for input signal of length=971\n",
      "  warnings.warn(\n",
      "c:\\Python310\\lib\\site-packages\\librosa\\core\\spectrum.py:222: UserWarning: n_fft=1024 is too small for input signal of length=618\n",
      "  warnings.warn(\n",
      "c:\\Python310\\lib\\site-packages\\librosa\\core\\spectrum.py:222: UserWarning: n_fft=1024 is too small for input signal of length=1000\n",
      "  warnings.warn(\n",
      "c:\\Python310\\lib\\site-packages\\librosa\\core\\spectrum.py:222: UserWarning: n_fft=1024 is too small for input signal of length=956\n",
      "  warnings.warn(\n",
      "c:\\Python310\\lib\\site-packages\\librosa\\core\\spectrum.py:222: UserWarning: n_fft=1024 is too small for input signal of length=941\n",
      "  warnings.warn(\n",
      "c:\\Python310\\lib\\site-packages\\librosa\\core\\spectrum.py:222: UserWarning: n_fft=1024 is too small for input signal of length=1015\n",
      "  warnings.warn(\n",
      "c:\\Python310\\lib\\site-packages\\librosa\\core\\spectrum.py:222: UserWarning: n_fft=1024 is too small for input signal of length=800\n",
      "  warnings.warn(\n",
      "c:\\Python310\\lib\\site-packages\\librosa\\core\\spectrum.py:222: UserWarning: n_fft=1024 is too small for input signal of length=851\n",
      "  warnings.warn(\n",
      "c:\\Python310\\lib\\site-packages\\librosa\\core\\spectrum.py:222: UserWarning: n_fft=1024 is too small for input signal of length=738\n",
      "  warnings.warn(\n",
      "c:\\Python310\\lib\\site-packages\\librosa\\core\\spectrum.py:222: UserWarning: n_fft=1024 is too small for input signal of length=903\n",
      "  warnings.warn(\n",
      "c:\\Python310\\lib\\site-packages\\librosa\\core\\spectrum.py:222: UserWarning: n_fft=1024 is too small for input signal of length=910\n",
      "  warnings.warn(\n",
      "c:\\Python310\\lib\\site-packages\\librosa\\core\\spectrum.py:222: UserWarning: n_fft=1024 is too small for input signal of length=614\n",
      "  warnings.warn(\n",
      "c:\\Python310\\lib\\site-packages\\librosa\\core\\spectrum.py:222: UserWarning: n_fft=1024 is too small for input signal of length=931\n",
      "  warnings.warn(\n",
      "c:\\Python310\\lib\\site-packages\\librosa\\core\\spectrum.py:222: UserWarning: n_fft=1024 is too small for input signal of length=466\n",
      "  warnings.warn(\n",
      "c:\\Python310\\lib\\site-packages\\librosa\\core\\spectrum.py:222: UserWarning: n_fft=1024 is too small for input signal of length=748\n",
      "  warnings.warn(\n",
      "c:\\Python310\\lib\\site-packages\\librosa\\core\\spectrum.py:222: UserWarning: n_fft=1024 is too small for input signal of length=769\n",
      "  warnings.warn(\n",
      "c:\\Python310\\lib\\site-packages\\librosa\\core\\spectrum.py:222: UserWarning: n_fft=1024 is too small for input signal of length=500\n",
      "  warnings.warn(\n",
      "c:\\Python310\\lib\\site-packages\\librosa\\core\\spectrum.py:222: UserWarning: n_fft=1024 is too small for input signal of length=845\n",
      "  warnings.warn(\n",
      "c:\\Python310\\lib\\site-packages\\librosa\\core\\spectrum.py:222: UserWarning: n_fft=1024 is too small for input signal of length=968\n",
      "  warnings.warn(\n",
      "c:\\Python310\\lib\\site-packages\\librosa\\core\\spectrum.py:222: UserWarning: n_fft=1024 is too small for input signal of length=612\n",
      "  warnings.warn(\n",
      "c:\\Python310\\lib\\site-packages\\librosa\\core\\spectrum.py:222: UserWarning: n_fft=1024 is too small for input signal of length=588\n",
      "  warnings.warn(\n",
      "c:\\Python310\\lib\\site-packages\\librosa\\core\\spectrum.py:222: UserWarning: n_fft=1024 is too small for input signal of length=877\n",
      "  warnings.warn(\n",
      "c:\\Python310\\lib\\site-packages\\librosa\\core\\spectrum.py:222: UserWarning: n_fft=1024 is too small for input signal of length=836\n",
      "  warnings.warn(\n",
      "c:\\Python310\\lib\\site-packages\\librosa\\core\\spectrum.py:222: UserWarning: n_fft=1024 is too small for input signal of length=761\n",
      "  warnings.warn(\n",
      "c:\\Python310\\lib\\site-packages\\librosa\\core\\spectrum.py:222: UserWarning: n_fft=1024 is too small for input signal of length=1009\n",
      "  warnings.warn(\n",
      "c:\\Python310\\lib\\site-packages\\librosa\\core\\spectrum.py:222: UserWarning: n_fft=1024 is too small for input signal of length=927\n",
      "  warnings.warn(\n",
      "c:\\Python310\\lib\\site-packages\\librosa\\core\\spectrum.py:222: UserWarning: n_fft=1024 is too small for input signal of length=912\n",
      "  warnings.warn(\n",
      "c:\\Python310\\lib\\site-packages\\librosa\\core\\spectrum.py:222: UserWarning: n_fft=1024 is too small for input signal of length=794\n",
      "  warnings.warn(\n",
      "c:\\Python310\\lib\\site-packages\\librosa\\core\\spectrum.py:222: UserWarning: n_fft=1024 is too small for input signal of length=625\n",
      "  warnings.warn(\n",
      "c:\\Python310\\lib\\site-packages\\librosa\\core\\spectrum.py:222: UserWarning: n_fft=1024 is too small for input signal of length=596\n",
      "  warnings.warn(\n",
      "c:\\Python310\\lib\\site-packages\\librosa\\core\\spectrum.py:222: UserWarning: n_fft=1024 is too small for input signal of length=559\n",
      "  warnings.warn(\n"
     ]
    },
    {
     "name": "stdout",
     "output_type": "stream",
     "text": [
      "(5,)\n"
     ]
    },
    {
     "name": "stderr",
     "output_type": "stream",
     "text": [
      "C:\\Users\\mahmo\\AppData\\Local\\Temp\\ipykernel_17512\\3263792091.py:27: VisibleDeprecationWarning: Creating an ndarray from ragged nested sequences (which is a list-or-tuple of lists-or-tuples-or ndarrays with different lengths or shapes) is deprecated. If you meant to do this, you must specify 'dtype=object' when creating the ndarray.\n",
      "  dd = np.array(DataSet[0])\n"
     ]
    }
   ],
   "source": [
    "mfccs = []\n",
    "mel = []\n",
    "tonnetz = []\n",
    "chroma = []\n",
    "contrast = []\n",
    "label_enter = []\n",
    "DataSet = pd.DataFrame()\n",
    "# print(Team_df['Paths'])\n",
    "DataSet = all.apply(Extract_features, whichone=\"AllTeams\", axis=1)\n",
    "# for i in range(len(Team_df)):\n",
    "#     vmfcc, vmel, vtonnetz, vchroma, vcontrast, vlabel = Extract_features(Team_df[i], \"Team\", \"Open_the_door\")\n",
    "#     mel.append(vmel)\n",
    "#     tonnetz.append(vtonnetz)\n",
    "#     chroma.append(vchroma)\n",
    "#     contrast.append(vcontrast)\n",
    "#     label_enter.append(vlabel)\n",
    "#     mfccs.append(vmfcc)\n",
    "# Data = {\n",
    "#     \"mfccs\": mfccs,\n",
    "#     \"mel\": mel,\n",
    "#     \"chroma\": chroma,\n",
    "#     \"tonnetz\": tonnetz,\n",
    "#     \"contrast\": contrast,\n",
    "#     \"Labels\": label_enter\n",
    "# }\n",
    "# DataSet = pd.DataFrame(Data)\n",
    "dd = np.array(DataSet[0])\n",
    "print(dd.shape)"
   ]
  },
  {
   "cell_type": "code",
   "execution_count": 51,
   "id": "415d08b9",
   "metadata": {},
   "outputs": [
    {
     "name": "stdout",
     "output_type": "stream",
     "text": [
      "[array([-4.7925879e+02,  1.2588013e+02, -1.8680016e+01,  2.8066908e+01,\n",
      "       -3.7592990e+00,  9.1917505e+00, -9.6640539e+00,  4.2108774e+00,\n",
      "       -1.7365740e+01,  1.7881201e+01, -1.0211505e+01,  8.9322004e+00,\n",
      "       -2.5660553e+00,  6.6504383e-01,  2.2090255e-01,  1.2934023e+01,\n",
      "       -1.0148947e+01,  7.4683805e+00, -4.2246504e+00, -3.7800226e-01,\n",
      "       -2.6198735e+00,  1.6183909e+00, -5.1632667e+00, -3.7916157e+00,\n",
      "       -2.6541629e+00,  3.6528273e+00,  2.6911230e+00, -8.9992732e-02,\n",
      "       -1.0054581e+00,  3.9458923e+00,  5.2003753e-01,  1.8348803e-01,\n",
      "        1.9236211e+00, -1.0041772e+00, -1.2911556e+00, -2.8943110e+00,\n",
      "        1.3207041e+00,  1.3195422e+00,  4.5531881e-01, -1.7236742e+00],\n",
      "      dtype=float32), array([0.53388834, 0.4819415 , 0.41172197, 0.44621053, 0.54601073,\n",
      "       0.4835603 , 0.5545465 , 0.5410869 , 0.5337066 , 0.58438694,\n",
      "       0.64982086, 0.62480193], dtype=float32), array([3.22894715e-02, 5.50554274e-03, 1.39400233e-02, 3.73665057e-02,\n",
      "       2.42821313e-02, 1.09786652e-02, 1.28752012e-02, 6.39820984e-03,\n",
      "       1.00378580e-02, 9.27736238e-03, 3.27640935e-03, 2.11269315e-03,\n",
      "       4.31523798e-03, 1.38434395e-02, 2.12809835e-02, 3.56193334e-02,\n",
      "       2.79588662e-02, 3.82091850e-02, 4.89591509e-02, 4.93260957e-02,\n",
      "       6.54412480e-03, 2.82980455e-03, 2.74808798e-03, 5.35534322e-03,\n",
      "       1.37573462e-02, 1.22844372e-02, 1.96844293e-03, 1.62357604e-03,\n",
      "       5.15748607e-03, 1.21408571e-02, 5.92160784e-03, 5.14804479e-03,\n",
      "       3.84929078e-03, 3.98340868e-03, 6.08602073e-03, 2.06922181e-03,\n",
      "       9.08589549e-03, 1.14693064e-02, 2.38099904e-03, 9.08427988e-04,\n",
      "       1.48637232e-03, 1.38357736e-03, 1.31029985e-03, 7.33513793e-04,\n",
      "       2.54739192e-04, 2.09187332e-04, 7.06165330e-04, 4.17445041e-03,\n",
      "       4.77043400e-03, 1.86940923e-03, 9.54653951e-04, 7.58424925e-04,\n",
      "       1.75475865e-03, 1.96191296e-03, 1.20761665e-03, 3.26117908e-04,\n",
      "       6.97651762e-04, 1.89381780e-03, 2.84719141e-03, 1.18951919e-03,\n",
      "       1.63942354e-03, 1.27425627e-03, 7.05885061e-04, 2.50571349e-04,\n",
      "       8.42625625e-04, 1.00731151e-03, 6.44793501e-04, 5.79659827e-04,\n",
      "       7.01522746e-04, 5.43518923e-04, 4.51159867e-04, 4.50110791e-04,\n",
      "       3.22412874e-04, 4.72682645e-04, 4.25148610e-04, 1.16059491e-04,\n",
      "       6.33022646e-05, 1.12869340e-04, 1.82067670e-04, 1.75420690e-04,\n",
      "       7.09542437e-05, 8.89845396e-05, 1.78217684e-04, 1.52909794e-04,\n",
      "       1.75399764e-04, 2.44692957e-04, 3.55255470e-04, 4.25859500e-04,\n",
      "       3.45814449e-04, 3.89306748e-04, 1.65371690e-04, 6.56792618e-05,\n",
      "       2.87836592e-05, 1.36673207e-05, 1.49844755e-05, 1.08559270e-05,\n",
      "       1.29950895e-05, 9.52762548e-06, 5.23252129e-06, 9.41478811e-06,\n",
      "       5.63518370e-06, 6.24864560e-06, 1.24669914e-05, 2.51133952e-05,\n",
      "       3.18807906e-05, 3.25404617e-05, 3.57707031e-05, 2.13605199e-05,\n",
      "       1.31751476e-05, 9.95725259e-06, 1.62202177e-05, 2.60730576e-05,\n",
      "       1.83942902e-05, 1.76198282e-05, 1.80273910e-05, 2.14803367e-05,\n",
      "       1.18785356e-05, 9.94691163e-06, 1.28653983e-05, 1.86844609e-05,\n",
      "       1.88915074e-05, 4.90980165e-06, 4.34265803e-06, 1.18068510e-06,\n",
      "       1.83625048e-07, 1.99280166e-08, 2.46955723e-09, 1.45819978e-09],\n",
      "      dtype=float32), array([16.15313909, 14.07807261, 19.74708916, 19.56397437, 20.39500805,\n",
      "       22.16868774, 40.60630666]), array([ 0.01357182,  0.00142635,  0.02319272,  0.00310941,  0.01927759,\n",
      "       -0.00039315])]\n"
     ]
    }
   ],
   "source": [
    "print(DataSet[0])"
   ]
  },
  {
   "cell_type": "code",
   "execution_count": 52,
   "id": "2945ecaa",
   "metadata": {},
   "outputs": [],
   "source": [
    "def features_append(features):\n",
    "    feature = []\n",
    "    for i in range(len(features)):\n",
    "        feature.append(np.concatenate((features[i][0], features[i][1], features[i][2]\n",
    "        , features[i][3],features[i][4])))\n",
    "    return feature\n"
   ]
  },
  {
   "cell_type": "code",
   "execution_count": 53,
   "id": "9dae046b",
   "metadata": {},
   "outputs": [],
   "source": [
    "x = features_append(DataSet)\n",
    "# df = pd.DataFrame(x)\n",
    "# print(df)"
   ]
  },
  {
   "cell_type": "code",
   "execution_count": 54,
   "id": "d4c6a6e0",
   "metadata": {},
   "outputs": [],
   "source": [
    "X_train, X_test, y_train, y_test = train_test_split(x, all['Labels'], test_size=0.2, random_state=0)"
   ]
  },
  {
   "cell_type": "code",
   "execution_count": 55,
   "id": "a5802e55",
   "metadata": {},
   "outputs": [
    {
     "data": {
      "text/html": [
       "<style>#sk-container-id-3 {color: black;background-color: white;}#sk-container-id-3 pre{padding: 0;}#sk-container-id-3 div.sk-toggleable {background-color: white;}#sk-container-id-3 label.sk-toggleable__label {cursor: pointer;display: block;width: 100%;margin-bottom: 0;padding: 0.3em;box-sizing: border-box;text-align: center;}#sk-container-id-3 label.sk-toggleable__label-arrow:before {content: \"▸\";float: left;margin-right: 0.25em;color: #696969;}#sk-container-id-3 label.sk-toggleable__label-arrow:hover:before {color: black;}#sk-container-id-3 div.sk-estimator:hover label.sk-toggleable__label-arrow:before {color: black;}#sk-container-id-3 div.sk-toggleable__content {max-height: 0;max-width: 0;overflow: hidden;text-align: left;background-color: #f0f8ff;}#sk-container-id-3 div.sk-toggleable__content pre {margin: 0.2em;color: black;border-radius: 0.25em;background-color: #f0f8ff;}#sk-container-id-3 input.sk-toggleable__control:checked~div.sk-toggleable__content {max-height: 200px;max-width: 100%;overflow: auto;}#sk-container-id-3 input.sk-toggleable__control:checked~label.sk-toggleable__label-arrow:before {content: \"▾\";}#sk-container-id-3 div.sk-estimator input.sk-toggleable__control:checked~label.sk-toggleable__label {background-color: #d4ebff;}#sk-container-id-3 div.sk-label input.sk-toggleable__control:checked~label.sk-toggleable__label {background-color: #d4ebff;}#sk-container-id-3 input.sk-hidden--visually {border: 0;clip: rect(1px 1px 1px 1px);clip: rect(1px, 1px, 1px, 1px);height: 1px;margin: -1px;overflow: hidden;padding: 0;position: absolute;width: 1px;}#sk-container-id-3 div.sk-estimator {font-family: monospace;background-color: #f0f8ff;border: 1px dotted black;border-radius: 0.25em;box-sizing: border-box;margin-bottom: 0.5em;}#sk-container-id-3 div.sk-estimator:hover {background-color: #d4ebff;}#sk-container-id-3 div.sk-parallel-item::after {content: \"\";width: 100%;border-bottom: 1px solid gray;flex-grow: 1;}#sk-container-id-3 div.sk-label:hover label.sk-toggleable__label {background-color: #d4ebff;}#sk-container-id-3 div.sk-serial::before {content: \"\";position: absolute;border-left: 1px solid gray;box-sizing: border-box;top: 0;bottom: 0;left: 50%;z-index: 0;}#sk-container-id-3 div.sk-serial {display: flex;flex-direction: column;align-items: center;background-color: white;padding-right: 0.2em;padding-left: 0.2em;position: relative;}#sk-container-id-3 div.sk-item {position: relative;z-index: 1;}#sk-container-id-3 div.sk-parallel {display: flex;align-items: stretch;justify-content: center;background-color: white;position: relative;}#sk-container-id-3 div.sk-item::before, #sk-container-id-3 div.sk-parallel-item::before {content: \"\";position: absolute;border-left: 1px solid gray;box-sizing: border-box;top: 0;bottom: 0;left: 50%;z-index: -1;}#sk-container-id-3 div.sk-parallel-item {display: flex;flex-direction: column;z-index: 1;position: relative;background-color: white;}#sk-container-id-3 div.sk-parallel-item:first-child::after {align-self: flex-end;width: 50%;}#sk-container-id-3 div.sk-parallel-item:last-child::after {align-self: flex-start;width: 50%;}#sk-container-id-3 div.sk-parallel-item:only-child::after {width: 0;}#sk-container-id-3 div.sk-dashed-wrapped {border: 1px dashed gray;margin: 0 0.4em 0.5em 0.4em;box-sizing: border-box;padding-bottom: 0.4em;background-color: white;}#sk-container-id-3 div.sk-label label {font-family: monospace;font-weight: bold;display: inline-block;line-height: 1.2em;}#sk-container-id-3 div.sk-label-container {text-align: center;}#sk-container-id-3 div.sk-container {/* jupyter's `normalize.less` sets `[hidden] { display: none; }` but bootstrap.min.css set `[hidden] { display: none !important; }` so we also need the `!important` here to be able to override the default hidden behavior on the sphinx rendered scikit-learn.org. See: https://github.com/scikit-learn/scikit-learn/issues/21755 */display: inline-block !important;position: relative;}#sk-container-id-3 div.sk-text-repr-fallback {display: none;}</style><div id=\"sk-container-id-3\" class=\"sk-top-container\"><div class=\"sk-text-repr-fallback\"><pre>RandomForestClassifier(n_estimators=40, random_state=0)</pre><b>In a Jupyter environment, please rerun this cell to show the HTML representation or trust the notebook. <br />On GitHub, the HTML representation is unable to render, please try loading this page with nbviewer.org.</b></div><div class=\"sk-container\" hidden><div class=\"sk-item\"><div class=\"sk-estimator sk-toggleable\"><input class=\"sk-toggleable__control sk-hidden--visually\" id=\"sk-estimator-id-3\" type=\"checkbox\" checked><label for=\"sk-estimator-id-3\" class=\"sk-toggleable__label sk-toggleable__label-arrow\">RandomForestClassifier</label><div class=\"sk-toggleable__content\"><pre>RandomForestClassifier(n_estimators=40, random_state=0)</pre></div></div></div></div></div>"
      ],
      "text/plain": [
       "RandomForestClassifier(n_estimators=40, random_state=0)"
      ]
     },
     "execution_count": 55,
     "metadata": {},
     "output_type": "execute_result"
    }
   ],
   "source": [
    "clf = RandomForestClassifier(random_state=0, n_estimators=40)\n",
    "clf.fit(X_train,y_train.values.ravel())"
   ]
  },
  {
   "cell_type": "code",
   "execution_count": 56,
   "id": "ce35fcc9",
   "metadata": {},
   "outputs": [],
   "source": [
    "y_pred = clf.predict(X_test)"
   ]
  },
  {
   "cell_type": "code",
   "execution_count": 57,
   "id": "7e06cebf",
   "metadata": {},
   "outputs": [
    {
     "data": {
      "text/plain": [
       "array([4, 2, 0, 0, 0, 2, 0, 1, 4, 0, 0, 2, 1, 2, 0, 0, 0, 3, 2, 0, 0, 0,\n",
       "       0, 0, 0, 0, 0, 0, 0, 0, 0, 0, 0, 1, 1, 2, 2, 0, 4, 2, 0, 1, 4, 0,\n",
       "       1, 0, 0, 0, 0, 4, 1, 4, 2, 0, 3, 0, 0, 2, 2, 0, 0, 0, 2, 2, 0, 0],\n",
       "      dtype=int64)"
      ]
     },
     "execution_count": 57,
     "metadata": {},
     "output_type": "execute_result"
    }
   ],
   "source": [
    "clf.predict(X_test)"
   ]
  },
  {
   "cell_type": "code",
   "execution_count": 58,
   "id": "49bd77c3",
   "metadata": {},
   "outputs": [
    {
     "data": {
      "text/plain": [
       "122    4\n",
       "66     2\n",
       "142    4\n",
       "245    0\n",
       "146    4\n",
       "      ..\n",
       "234    0\n",
       "74     2\n",
       "52     2\n",
       "235    0\n",
       "214    0\n",
       "Name: Labels, Length: 66, dtype: int64"
      ]
     },
     "execution_count": 58,
     "metadata": {},
     "output_type": "execute_result"
    }
   ],
   "source": [
    "y_test"
   ]
  },
  {
   "cell_type": "code",
   "execution_count": 59,
   "id": "5e16a016",
   "metadata": {},
   "outputs": [
    {
     "name": "stdout",
     "output_type": "stream",
     "text": [
      "0.9242424242424242\n"
     ]
    }
   ],
   "source": [
    "a = accuracy_score(y_pred, y_test)\n",
    "print(a)"
   ]
  },
  {
   "cell_type": "code",
   "execution_count": 60,
   "id": "59207127",
   "metadata": {},
   "outputs": [
    {
     "data": {
      "text/plain": [
       "array([1, 1, 1, 1, 1, 1, 1, 1, 1, 1, 1, 1], dtype=int64)"
      ]
     },
     "execution_count": 60,
     "metadata": {},
     "output_type": "execute_result"
    }
   ],
   "source": [
    "clf.predict(x[:12])"
   ]
  },
  {
   "cell_type": "code",
   "execution_count": 61,
   "id": "04479da1",
   "metadata": {},
   "outputs": [
    {
     "data": {
      "text/plain": [
       "0     1\n",
       "1     1\n",
       "2     1\n",
       "3     1\n",
       "4     1\n",
       "5     1\n",
       "6     1\n",
       "7     1\n",
       "8     1\n",
       "9     1\n",
       "10    1\n",
       "11    1\n",
       "Name: Labels, dtype: int64"
      ]
     },
     "execution_count": 61,
     "metadata": {},
     "output_type": "execute_result"
    }
   ],
   "source": [
    "all['Labels'][:12]"
   ]
  },
  {
   "cell_type": "code",
   "execution_count": 68,
   "id": "43638590",
   "metadata": {},
   "outputs": [
    {
     "name": "stderr",
     "output_type": "stream",
     "text": [
      "c:\\Python310\\lib\\site-packages\\librosa\\core\\spectrum.py:222: UserWarning: n_fft=1024 is too small for input signal of length=986\n",
      "  warnings.warn(\n",
      "c:\\Python310\\lib\\site-packages\\librosa\\core\\spectrum.py:222: UserWarning: n_fft=1024 is too small for input signal of length=493\n",
      "  warnings.warn(\n",
      "c:\\Python310\\lib\\site-packages\\librosa\\core\\spectrum.py:222: UserWarning: n_fft=1024 is too small for input signal of length=869\n",
      "  warnings.warn(\n",
      "c:\\Python310\\lib\\site-packages\\librosa\\core\\spectrum.py:222: UserWarning: n_fft=1024 is too small for input signal of length=724\n",
      "  warnings.warn(\n",
      "c:\\Python310\\lib\\site-packages\\librosa\\core\\spectrum.py:222: UserWarning: n_fft=1024 is too small for input signal of length=362\n",
      "  warnings.warn(\n",
      "c:\\Python310\\lib\\site-packages\\librosa\\core\\spectrum.py:222: UserWarning: n_fft=1024 is too small for input signal of length=831\n",
      "  warnings.warn(\n",
      "c:\\Python310\\lib\\site-packages\\librosa\\core\\spectrum.py:222: UserWarning: n_fft=1024 is too small for input signal of length=979\n",
      "  warnings.warn(\n",
      "c:\\Python310\\lib\\site-packages\\librosa\\core\\spectrum.py:222: UserWarning: n_fft=1024 is too small for input signal of length=490\n",
      "  warnings.warn(\n",
      "c:\\Python310\\lib\\site-packages\\librosa\\core\\spectrum.py:222: UserWarning: n_fft=1024 is too small for input signal of length=814\n",
      "  warnings.warn(\n",
      "c:\\Python310\\lib\\site-packages\\librosa\\core\\spectrum.py:222: UserWarning: n_fft=1024 is too small for input signal of length=407\n",
      "  warnings.warn(\n",
      "c:\\Python310\\lib\\site-packages\\librosa\\core\\spectrum.py:222: UserWarning: n_fft=1024 is too small for input signal of length=524\n",
      "  warnings.warn(\n"
     ]
    }
   ],
   "source": [
    "newTest = os.listdir(\"AllRecords/Test/\")\n",
    "Test = pd.DataFrame(newTest, columns={\"Paths\"})\n",
    "get_feat = Test.apply(Extract_features, whichone='Test', axis=1)\n",
    "combine = features_append(get_feat)"
   ]
  },
  {
   "cell_type": "code",
   "execution_count": 69,
   "id": "efda6071",
   "metadata": {},
   "outputs": [
    {
     "data": {
      "text/plain": [
       "array([4, 0, 0, 0, 0, 1, 2, 2, 3], dtype=int64)"
      ]
     },
     "execution_count": 69,
     "metadata": {},
     "output_type": "execute_result"
    }
   ],
   "source": [
    "clf.predict(combine)"
   ]
  },
  {
   "cell_type": "code",
   "execution_count": 70,
   "id": "7f99dfd1",
   "metadata": {},
   "outputs": [],
   "source": [
    "pickle.dump(clf, open(\"Speech2-model.pkl\", 'wb'))"
   ]
  },
  {
   "cell_type": "code",
   "execution_count": null,
   "id": "6aa21aa2",
   "metadata": {},
   "outputs": [],
   "source": []
  }
 ],
 "metadata": {
  "kernelspec": {
   "display_name": "Python 3.10.4 64-bit",
   "language": "python",
   "name": "python3"
  },
  "language_info": {
   "codemirror_mode": {
    "name": "ipython",
    "version": 3
   },
   "file_extension": ".py",
   "mimetype": "text/x-python",
   "name": "python",
   "nbconvert_exporter": "python",
   "pygments_lexer": "ipython3",
   "version": "3.10.4"
  },
  "vscode": {
   "interpreter": {
    "hash": "369f2c481f4da34e4445cda3fffd2e751bd1c4d706f27375911949ba6bb62e1c"
   }
  }
 },
 "nbformat": 4,
 "nbformat_minor": 5
}
