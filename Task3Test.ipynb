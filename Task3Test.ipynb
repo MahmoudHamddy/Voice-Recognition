{
 "cells": [
  {
   "cell_type": "code",
   "execution_count": 5,
   "id": "fc9c971e",
   "metadata": {},
   "outputs": [],
   "source": [
    "import numpy as np\n",
    "import pandas as pd\n",
    "import librosa\n",
    "import sklearn\n",
    "import os"
   ]
  },
  {
   "cell_type": "code",
   "execution_count": 6,
   "id": "1ef3bf19",
   "metadata": {},
   "outputs": [],
   "source": [
    "# names = []\n",
    "# Letter_names = [\"M\", \"S\", \"B\", \"Y\"]\n",
    "# for letter in Letter_names:\n",
    "#     for index in range(15):\n",
    "#         names.append({'file':\"{0}_open_({1}).wav\".format(letter, index), 'label':\"{0}\".format(letter)})\n",
    "# file_name = pd.DataFrame(names)\n",
    "# print(file_name)"
   ]
  },
  {
   "cell_type": "code",
   "execution_count": 7,
   "id": "e4e3518c",
   "metadata": {},
   "outputs": [
    {
     "name": "stdout",
     "output_type": "stream",
     "text": [
      "               Paths  Label\n",
      "0     a_open_(1).wav      0\n",
      "1    a_open_(10).wav      0\n",
      "2    a_open_(11).wav      0\n",
      "3    a_open_(12).wav      0\n",
      "4    a_open_(13).wav      0\n",
      "..               ...    ...\n",
      "152   r_open_(5).wav      0\n",
      "153   r_open_(6).wav      0\n",
      "154   r_open_(7).wav      0\n",
      "155   r_open_(8).wav      0\n",
      "156   r_open_(9).wav      0\n",
      "\n",
      "[157 rows x 2 columns]\n"
     ]
    }
   ],
   "source": [
    "Names = os.listdir(\"AllRecords//Others\")\n",
    "Others_Names_df = pd.DataFrame(Names, columns={'Paths'})\n",
    "Others_Names_df.insert(1, \"Label\", len(Names) *[0])\n",
    "print(Others_Names_df)"
   ]
  },
  {
   "cell_type": "code",
   "execution_count": 11,
   "id": "6fa2944c",
   "metadata": {},
   "outputs": [
    {
     "name": "stdout",
     "output_type": "stream",
     "text": [
      "             Paths  Labels\n",
      "0  s_open_ (1).wav       1\n",
      "1  s_open_ (2).wav       1\n",
      "2  s_open_ (3).wav       1\n",
      "3  s_open_ (4).wav       1\n",
      "4  s_open_ (5).wav       1\n"
     ]
    },
    {
     "name": "stderr",
     "output_type": "stream",
     "text": [
      "C:\\Users\\mahmo\\AppData\\Local\\Temp\\ipykernel_6316\\546527831.py:9: FutureWarning: The frame.append method is deprecated and will be removed from pandas in a future version. Use pandas.concat instead.\n",
      "  Team_df = Team_df.append(Team,ignore_index=True)\n",
      "C:\\Users\\mahmo\\AppData\\Local\\Temp\\ipykernel_6316\\546527831.py:11: FutureWarning: The frame.append method is deprecated and will be removed from pandas in a future version. Use pandas.concat instead.\n",
      "  labels = labels.append([iterator]*len(Team),ignore_index=True)\n"
     ]
    }
   ],
   "source": [
    "#Getting Team information\n",
    "team_members = ['Sherif']\n",
    "iterator = 0\n",
    "Team_df = pd.DataFrame()\n",
    "labels = pd.DataFrame()\n",
    "for member in team_members:\n",
    "    iterator += 1\n",
    "    Team = os.listdir(\"AllRecords/Team/{0}/Open_the_door\".format(member))\n",
    "    Team_df = Team_df.append(Team,ignore_index=True)\n",
    "    #Team_df.insert(1, \"Label\", [iterator]*len(Team))\n",
    "    labels = labels.append([iterator]*len(Team),ignore_index=True)\n",
    "# Team_df.insert(1, \"Label\", labels)\n",
    "# Data = {\n",
    "#     \"Paths\": names,\n",
    "#     \"Labels\": labels\n",
    "# }\n",
    "# Team_df = pd.DataFrame(Data)\n",
    "labels = labels.rename(columns={0:\"Labels\"})\n",
    "Team_df = Team_df.rename(columns={0:\"Paths\"})\n",
    "# print(labels)\n",
    "# print(Team_df)\n",
    "Team_df = pd.concat([Team_df,labels], axis=1)\n",
    "print(Team_df)"
   ]
  },
  {
   "cell_type": "code",
   "execution_count": 34,
   "id": "601884ed",
   "metadata": {},
   "outputs": [],
   "source": [
    "def Extract_features(paths, whichone, dowhat = ''):\n",
    "    # path = os.listdir(\"AllRecords/{0}/{1}/{2}\".format(whichone, dowhat, paths[\"Paths\"]))\n",
    "    try:\n",
    "        path = os.path.join(os.path.abspath('AllRecords/{0}/{1}').format(whichone, dowhat)+ ('\\\\') +str(paths['Paths']))\n",
    "        Voices_frequencies, sample_rate = librosa.load(path, res_type = \"kaiser_fast\")\n",
    "    except:\n",
    "        print(paths[\"Paths\"])\n",
    "    print(path)\n",
    "    mfccs = np.maen(librosa.feature.mfcc(Voices_frequencies, sample_rate, n_mfcc = 40).T, axis = 0)\n",
    "    mel = np.mean(librosa.feature.melspectrogram(Voices_frequencies, sample_rate).T, axis = 0)\n",
    "    tonnetz = np.mean(librosa.feature.tonnetz(librosa.effects.harmonic(Voices_frequencies), sample_rate).T, axis = 0)\n",
    "    frequencies_in_stft = abs(librosa.stft(Voices_frequencies))\n",
    "    chroma = np.mean(librosa.feature.chroma_stft(frequencies_in_stft, sample_rate).T, axis = 0)\n",
    "    contrast = np.mean(librosa.feature.spectral_contrast(frequencies_in_stft, sample_rate).T, axis = 0)\n",
    "    label = paths['Labels']\n",
    "    return mfccs, mel, tonnetz, chroma, contrast, label\n",
    "# def extract_features(files):\n",
    "    \n",
    "#     # Sets the name to be the path to where the file is in my computer\n",
    "#     file_name = os.path.join(os.path.abspath('all')+'/'+str(files.file))\n",
    "\n",
    "#     # Loads the audio file as a floating point time series and assigns the default sample rate\n",
    "#     # Sample rate is set to 22050 by default\n",
    "#     X, sample_rate = librosa.load(file_name, res_type='kaiser_fast') \n",
    "\n",
    "#     # Generate Mel-frequency cepstral coefficients (MFCCs) from a time series \n",
    "#     mfccs = np.mean(librosa.feature.mfcc(y=X, sr=sample_rate, n_mfcc=40).T,axis=0)\n",
    "\n",
    "#     # Generates a Short-time Fourier transform (STFT) to use in the chroma_stft\n",
    "#     stft = np.abs(librosa.stft(X))\n",
    "\n",
    "#     # Computes a chromagram from a waveform or power spectrogram.\n",
    "#     chroma = np.mean(librosa.feature.chroma_stft(S=stft, sr=sample_rate).T,axis=0)\n",
    "\n",
    "#     # Computes a mel-scaled spectrogram.\n",
    "#     mel = np.mean(librosa.feature.melspectrogram(X, sr=sample_rate).T,axis=0)\n",
    "\n",
    "#     # Computes spectral contrast\n",
    "#     contrast = np.mean(librosa.feature.spectral_contrast(S=stft, sr=sample_rate).T,axis=0)\n",
    "\n",
    "#     # Computes the tonal centroid features (tonnetz)\n",
    "#     tonnetz = np.mean(librosa.feature.tonnetz(y=librosa.effects.harmonic(X),\n",
    "#     sr=sample_rate).T,axis=0)\n",
    "        \n",
    "    \n",
    "#     # We add also the classes of each file as a label at the end\n",
    "#     label = files.label\n",
    "\n",
    "#     return mfccs, chroma, mel, contrast, tonnetz, label\n"
   ]
  },
  {
   "cell_type": "code",
   "execution_count": 38,
   "id": "49a73412",
   "metadata": {},
   "outputs": [
    {
     "name": "stdout",
     "output_type": "stream",
     "text": [
      "0    s_open_ (1).wav\n",
      "1    s_open_ (2).wav\n",
      "2    s_open_ (3).wav\n",
      "3    s_open_ (4).wav\n",
      "4    s_open_ (5).wav\n",
      "Name: Paths, dtype: object\n"
     ]
    },
    {
     "ename": "KeyError",
     "evalue": "'Paths'",
     "output_type": "error",
     "traceback": [
      "\u001b[1;31m---------------------------------------------------------------------------\u001b[0m",
      "\u001b[1;31mKeyError\u001b[0m                                  Traceback (most recent call last)",
      "\u001b[1;32mc:\\Users\\mahmo\\OneDrive\\Documents\\GitHub\\DSP_Task3_TeamNo\\Task3Test.ipynb Cell 6\u001b[0m in \u001b[0;36mExtract_features\u001b[1;34m(paths, whichone, dowhat)\u001b[0m\n\u001b[0;32m      <a href='vscode-notebook-cell:/c%3A/Users/mahmo/OneDrive/Documents/GitHub/DSP_Task3_TeamNo/Task3Test.ipynb#W5sZmlsZQ%3D%3D?line=2'>3</a>\u001b[0m \u001b[39mtry\u001b[39;00m:\n\u001b[1;32m----> <a href='vscode-notebook-cell:/c%3A/Users/mahmo/OneDrive/Documents/GitHub/DSP_Task3_TeamNo/Task3Test.ipynb#W5sZmlsZQ%3D%3D?line=3'>4</a>\u001b[0m     path \u001b[39m=\u001b[39m os\u001b[39m.\u001b[39mpath\u001b[39m.\u001b[39mjoin(os\u001b[39m.\u001b[39mpath\u001b[39m.\u001b[39mabspath(\u001b[39m'\u001b[39m\u001b[39mAllRecords/\u001b[39m\u001b[39m{0}\u001b[39;00m\u001b[39m/\u001b[39m\u001b[39m{1}\u001b[39;00m\u001b[39m'\u001b[39m)\u001b[39m.\u001b[39mformat(whichone, dowhat)\u001b[39m+\u001b[39m (\u001b[39m'\u001b[39m\u001b[39m\\\\\u001b[39;00m\u001b[39m'\u001b[39m) \u001b[39m+\u001b[39m\u001b[39mstr\u001b[39m(paths[\u001b[39m'\u001b[39;49m\u001b[39mPaths\u001b[39;49m\u001b[39m'\u001b[39;49m]))\n\u001b[0;32m      <a href='vscode-notebook-cell:/c%3A/Users/mahmo/OneDrive/Documents/GitHub/DSP_Task3_TeamNo/Task3Test.ipynb#W5sZmlsZQ%3D%3D?line=4'>5</a>\u001b[0m     Voices_frequencies, sample_rate \u001b[39m=\u001b[39m librosa\u001b[39m.\u001b[39mload(path, res_type \u001b[39m=\u001b[39m \u001b[39m\"\u001b[39m\u001b[39mkaiser_fast\u001b[39m\u001b[39m\"\u001b[39m)\n",
      "File \u001b[1;32mc:\\Python310\\lib\\site-packages\\pandas\\core\\series.py:958\u001b[0m, in \u001b[0;36mSeries.__getitem__\u001b[1;34m(self, key)\u001b[0m\n\u001b[0;32m    957\u001b[0m \u001b[39melif\u001b[39;00m key_is_scalar:\n\u001b[1;32m--> 958\u001b[0m     \u001b[39mreturn\u001b[39;00m \u001b[39mself\u001b[39;49m\u001b[39m.\u001b[39;49m_get_value(key)\n\u001b[0;32m    960\u001b[0m \u001b[39mif\u001b[39;00m is_hashable(key):\n\u001b[0;32m    961\u001b[0m     \u001b[39m# Otherwise index.get_value will raise InvalidIndexError\u001b[39;00m\n",
      "File \u001b[1;32mc:\\Python310\\lib\\site-packages\\pandas\\core\\series.py:1069\u001b[0m, in \u001b[0;36mSeries._get_value\u001b[1;34m(self, label, takeable)\u001b[0m\n\u001b[0;32m   1068\u001b[0m \u001b[39m# Similar to Index.get_value, but we do not fall back to positional\u001b[39;00m\n\u001b[1;32m-> 1069\u001b[0m loc \u001b[39m=\u001b[39m \u001b[39mself\u001b[39;49m\u001b[39m.\u001b[39;49mindex\u001b[39m.\u001b[39;49mget_loc(label)\n\u001b[0;32m   1070\u001b[0m \u001b[39mreturn\u001b[39;00m \u001b[39mself\u001b[39m\u001b[39m.\u001b[39mindex\u001b[39m.\u001b[39m_get_values_for_loc(\u001b[39mself\u001b[39m, loc, label)\n",
      "File \u001b[1;32mc:\\Python310\\lib\\site-packages\\pandas\\core\\indexes\\range.py:389\u001b[0m, in \u001b[0;36mRangeIndex.get_loc\u001b[1;34m(self, key, method, tolerance)\u001b[0m\n\u001b[0;32m    388\u001b[0m     \u001b[39mself\u001b[39m\u001b[39m.\u001b[39m_check_indexing_error(key)\n\u001b[1;32m--> 389\u001b[0m     \u001b[39mraise\u001b[39;00m \u001b[39mKeyError\u001b[39;00m(key)\n\u001b[0;32m    390\u001b[0m \u001b[39mreturn\u001b[39;00m \u001b[39msuper\u001b[39m()\u001b[39m.\u001b[39mget_loc(key, method\u001b[39m=\u001b[39mmethod, tolerance\u001b[39m=\u001b[39mtolerance)\n",
      "\u001b[1;31mKeyError\u001b[0m: 'Paths'",
      "\nDuring handling of the above exception, another exception occurred:\n",
      "\u001b[1;31mKeyError\u001b[0m                                  Traceback (most recent call last)",
      "\u001b[1;32mc:\\Users\\mahmo\\OneDrive\\Documents\\GitHub\\DSP_Task3_TeamNo\\Task3Test.ipynb Cell 6\u001b[0m in \u001b[0;36m<cell line: 9>\u001b[1;34m()\u001b[0m\n\u001b[0;32m      <a href='vscode-notebook-cell:/c%3A/Users/mahmo/OneDrive/Documents/GitHub/DSP_Task3_TeamNo/Task3Test.ipynb#W5sZmlsZQ%3D%3D?line=6'>7</a>\u001b[0m DataSet \u001b[39m=\u001b[39m pd\u001b[39m.\u001b[39mDataFrame()\n\u001b[0;32m      <a href='vscode-notebook-cell:/c%3A/Users/mahmo/OneDrive/Documents/GitHub/DSP_Task3_TeamNo/Task3Test.ipynb#W5sZmlsZQ%3D%3D?line=7'>8</a>\u001b[0m \u001b[39mprint\u001b[39m(Team_df[\u001b[39m'\u001b[39m\u001b[39mPaths\u001b[39m\u001b[39m'\u001b[39m])\n\u001b[1;32m----> <a href='vscode-notebook-cell:/c%3A/Users/mahmo/OneDrive/Documents/GitHub/DSP_Task3_TeamNo/Task3Test.ipynb#W5sZmlsZQ%3D%3D?line=8'>9</a>\u001b[0m DataSet \u001b[39m=\u001b[39m Team_df\u001b[39m.\u001b[39;49mapply(Extract_features, whichone\u001b[39m=\u001b[39;49m\u001b[39m\"\u001b[39;49m\u001b[39mTeam\u001b[39;49m\u001b[39m\"\u001b[39;49m, dowhat \u001b[39m=\u001b[39;49m \u001b[39m\"\u001b[39;49m\u001b[39mOpen_the_door\u001b[39;49m\u001b[39m\"\u001b[39;49m)\n",
      "File \u001b[1;32mc:\\Python310\\lib\\site-packages\\pandas\\core\\frame.py:8839\u001b[0m, in \u001b[0;36mDataFrame.apply\u001b[1;34m(self, func, axis, raw, result_type, args, **kwargs)\u001b[0m\n\u001b[0;32m   8828\u001b[0m \u001b[39mfrom\u001b[39;00m \u001b[39mpandas\u001b[39;00m\u001b[39m.\u001b[39;00m\u001b[39mcore\u001b[39;00m\u001b[39m.\u001b[39;00m\u001b[39mapply\u001b[39;00m \u001b[39mimport\u001b[39;00m frame_apply\n\u001b[0;32m   8830\u001b[0m op \u001b[39m=\u001b[39m frame_apply(\n\u001b[0;32m   8831\u001b[0m     \u001b[39mself\u001b[39m,\n\u001b[0;32m   8832\u001b[0m     func\u001b[39m=\u001b[39mfunc,\n\u001b[1;32m   (...)\u001b[0m\n\u001b[0;32m   8837\u001b[0m     kwargs\u001b[39m=\u001b[39mkwargs,\n\u001b[0;32m   8838\u001b[0m )\n\u001b[1;32m-> 8839\u001b[0m \u001b[39mreturn\u001b[39;00m op\u001b[39m.\u001b[39;49mapply()\u001b[39m.\u001b[39m__finalize__(\u001b[39mself\u001b[39m, method\u001b[39m=\u001b[39m\u001b[39m\"\u001b[39m\u001b[39mapply\u001b[39m\u001b[39m\"\u001b[39m)\n",
      "File \u001b[1;32mc:\\Python310\\lib\\site-packages\\pandas\\core\\apply.py:727\u001b[0m, in \u001b[0;36mFrameApply.apply\u001b[1;34m(self)\u001b[0m\n\u001b[0;32m    724\u001b[0m \u001b[39melif\u001b[39;00m \u001b[39mself\u001b[39m\u001b[39m.\u001b[39mraw:\n\u001b[0;32m    725\u001b[0m     \u001b[39mreturn\u001b[39;00m \u001b[39mself\u001b[39m\u001b[39m.\u001b[39mapply_raw()\n\u001b[1;32m--> 727\u001b[0m \u001b[39mreturn\u001b[39;00m \u001b[39mself\u001b[39;49m\u001b[39m.\u001b[39;49mapply_standard()\n",
      "File \u001b[1;32mc:\\Python310\\lib\\site-packages\\pandas\\core\\apply.py:851\u001b[0m, in \u001b[0;36mFrameApply.apply_standard\u001b[1;34m(self)\u001b[0m\n\u001b[0;32m    850\u001b[0m \u001b[39mdef\u001b[39;00m \u001b[39mapply_standard\u001b[39m(\u001b[39mself\u001b[39m):\n\u001b[1;32m--> 851\u001b[0m     results, res_index \u001b[39m=\u001b[39m \u001b[39mself\u001b[39;49m\u001b[39m.\u001b[39;49mapply_series_generator()\n\u001b[0;32m    853\u001b[0m     \u001b[39m# wrap results\u001b[39;00m\n\u001b[0;32m    854\u001b[0m     \u001b[39mreturn\u001b[39;00m \u001b[39mself\u001b[39m\u001b[39m.\u001b[39mwrap_results(results, res_index)\n",
      "File \u001b[1;32mc:\\Python310\\lib\\site-packages\\pandas\\core\\apply.py:867\u001b[0m, in \u001b[0;36mFrameApply.apply_series_generator\u001b[1;34m(self)\u001b[0m\n\u001b[0;32m    864\u001b[0m \u001b[39mwith\u001b[39;00m option_context(\u001b[39m\"\u001b[39m\u001b[39mmode.chained_assignment\u001b[39m\u001b[39m\"\u001b[39m, \u001b[39mNone\u001b[39;00m):\n\u001b[0;32m    865\u001b[0m     \u001b[39mfor\u001b[39;00m i, v \u001b[39min\u001b[39;00m \u001b[39menumerate\u001b[39m(series_gen):\n\u001b[0;32m    866\u001b[0m         \u001b[39m# ignore SettingWithCopy here in case the user mutates\u001b[39;00m\n\u001b[1;32m--> 867\u001b[0m         results[i] \u001b[39m=\u001b[39m \u001b[39mself\u001b[39;49m\u001b[39m.\u001b[39;49mf(v)\n\u001b[0;32m    868\u001b[0m         \u001b[39mif\u001b[39;00m \u001b[39misinstance\u001b[39m(results[i], ABCSeries):\n\u001b[0;32m    869\u001b[0m             \u001b[39m# If we have a view on v, we need to make a copy because\u001b[39;00m\n\u001b[0;32m    870\u001b[0m             \u001b[39m#  series_generator will swap out the underlying data\u001b[39;00m\n\u001b[0;32m    871\u001b[0m             results[i] \u001b[39m=\u001b[39m results[i]\u001b[39m.\u001b[39mcopy(deep\u001b[39m=\u001b[39m\u001b[39mFalse\u001b[39;00m)\n",
      "File \u001b[1;32mc:\\Python310\\lib\\site-packages\\pandas\\core\\apply.py:138\u001b[0m, in \u001b[0;36mApply.__init__.<locals>.f\u001b[1;34m(x)\u001b[0m\n\u001b[0;32m    137\u001b[0m \u001b[39mdef\u001b[39;00m \u001b[39mf\u001b[39m(x):\n\u001b[1;32m--> 138\u001b[0m     \u001b[39mreturn\u001b[39;00m func(x, \u001b[39m*\u001b[39margs, \u001b[39m*\u001b[39m\u001b[39m*\u001b[39mkwargs)\n",
      "\u001b[1;32mc:\\Users\\mahmo\\OneDrive\\Documents\\GitHub\\DSP_Task3_TeamNo\\Task3Test.ipynb Cell 6\u001b[0m in \u001b[0;36mExtract_features\u001b[1;34m(paths, whichone, dowhat)\u001b[0m\n\u001b[0;32m      <a href='vscode-notebook-cell:/c%3A/Users/mahmo/OneDrive/Documents/GitHub/DSP_Task3_TeamNo/Task3Test.ipynb#W5sZmlsZQ%3D%3D?line=4'>5</a>\u001b[0m     Voices_frequencies, sample_rate \u001b[39m=\u001b[39m librosa\u001b[39m.\u001b[39mload(path, res_type \u001b[39m=\u001b[39m \u001b[39m\"\u001b[39m\u001b[39mkaiser_fast\u001b[39m\u001b[39m\"\u001b[39m)\n\u001b[0;32m      <a href='vscode-notebook-cell:/c%3A/Users/mahmo/OneDrive/Documents/GitHub/DSP_Task3_TeamNo/Task3Test.ipynb#W5sZmlsZQ%3D%3D?line=5'>6</a>\u001b[0m \u001b[39mexcept\u001b[39;00m:\n\u001b[1;32m----> <a href='vscode-notebook-cell:/c%3A/Users/mahmo/OneDrive/Documents/GitHub/DSP_Task3_TeamNo/Task3Test.ipynb#W5sZmlsZQ%3D%3D?line=6'>7</a>\u001b[0m     \u001b[39mprint\u001b[39m(paths[\u001b[39m\"\u001b[39;49m\u001b[39mPaths\u001b[39;49m\u001b[39m\"\u001b[39;49m])\n\u001b[0;32m      <a href='vscode-notebook-cell:/c%3A/Users/mahmo/OneDrive/Documents/GitHub/DSP_Task3_TeamNo/Task3Test.ipynb#W5sZmlsZQ%3D%3D?line=7'>8</a>\u001b[0m \u001b[39mprint\u001b[39m(path)\n\u001b[0;32m      <a href='vscode-notebook-cell:/c%3A/Users/mahmo/OneDrive/Documents/GitHub/DSP_Task3_TeamNo/Task3Test.ipynb#W5sZmlsZQ%3D%3D?line=8'>9</a>\u001b[0m mfccs \u001b[39m=\u001b[39m np\u001b[39m.\u001b[39mmaen(librosa\u001b[39m.\u001b[39mfeature\u001b[39m.\u001b[39mmfcc(Voices_frequencies, sample_rate, n_mfcc \u001b[39m=\u001b[39m \u001b[39m40\u001b[39m)\u001b[39m.\u001b[39mT, axis \u001b[39m=\u001b[39m \u001b[39m0\u001b[39m)\n",
      "File \u001b[1;32mc:\\Python310\\lib\\site-packages\\pandas\\core\\series.py:958\u001b[0m, in \u001b[0;36mSeries.__getitem__\u001b[1;34m(self, key)\u001b[0m\n\u001b[0;32m    955\u001b[0m     \u001b[39mreturn\u001b[39;00m \u001b[39mself\u001b[39m\u001b[39m.\u001b[39m_values[key]\n\u001b[0;32m    957\u001b[0m \u001b[39melif\u001b[39;00m key_is_scalar:\n\u001b[1;32m--> 958\u001b[0m     \u001b[39mreturn\u001b[39;00m \u001b[39mself\u001b[39;49m\u001b[39m.\u001b[39;49m_get_value(key)\n\u001b[0;32m    960\u001b[0m \u001b[39mif\u001b[39;00m is_hashable(key):\n\u001b[0;32m    961\u001b[0m     \u001b[39m# Otherwise index.get_value will raise InvalidIndexError\u001b[39;00m\n\u001b[0;32m    962\u001b[0m     \u001b[39mtry\u001b[39;00m:\n\u001b[0;32m    963\u001b[0m         \u001b[39m# For labels that don't resolve as scalars like tuples and frozensets\u001b[39;00m\n",
      "File \u001b[1;32mc:\\Python310\\lib\\site-packages\\pandas\\core\\series.py:1069\u001b[0m, in \u001b[0;36mSeries._get_value\u001b[1;34m(self, label, takeable)\u001b[0m\n\u001b[0;32m   1066\u001b[0m     \u001b[39mreturn\u001b[39;00m \u001b[39mself\u001b[39m\u001b[39m.\u001b[39m_values[label]\n\u001b[0;32m   1068\u001b[0m \u001b[39m# Similar to Index.get_value, but we do not fall back to positional\u001b[39;00m\n\u001b[1;32m-> 1069\u001b[0m loc \u001b[39m=\u001b[39m \u001b[39mself\u001b[39;49m\u001b[39m.\u001b[39;49mindex\u001b[39m.\u001b[39;49mget_loc(label)\n\u001b[0;32m   1070\u001b[0m \u001b[39mreturn\u001b[39;00m \u001b[39mself\u001b[39m\u001b[39m.\u001b[39mindex\u001b[39m.\u001b[39m_get_values_for_loc(\u001b[39mself\u001b[39m, loc, label)\n",
      "File \u001b[1;32mc:\\Python310\\lib\\site-packages\\pandas\\core\\indexes\\range.py:389\u001b[0m, in \u001b[0;36mRangeIndex.get_loc\u001b[1;34m(self, key, method, tolerance)\u001b[0m\n\u001b[0;32m    387\u001b[0m             \u001b[39mraise\u001b[39;00m \u001b[39mKeyError\u001b[39;00m(key) \u001b[39mfrom\u001b[39;00m \u001b[39merr\u001b[39;00m\n\u001b[0;32m    388\u001b[0m     \u001b[39mself\u001b[39m\u001b[39m.\u001b[39m_check_indexing_error(key)\n\u001b[1;32m--> 389\u001b[0m     \u001b[39mraise\u001b[39;00m \u001b[39mKeyError\u001b[39;00m(key)\n\u001b[0;32m    390\u001b[0m \u001b[39mreturn\u001b[39;00m \u001b[39msuper\u001b[39m()\u001b[39m.\u001b[39mget_loc(key, method\u001b[39m=\u001b[39mmethod, tolerance\u001b[39m=\u001b[39mtolerance)\n",
      "\u001b[1;31mKeyError\u001b[0m: 'Paths'"
     ]
    }
   ],
   "source": [
    "mfccs = []\n",
    "mel = []\n",
    "tonnetz = []\n",
    "chroma = []\n",
    "contrast = []\n",
    "label_enter = []\n",
    "DataSet = pd.DataFrame()\n",
    "files = Team_df['Paths']\n",
    "print(Team_df['Paths'])\n",
    "DataSet = files.apply(Extract_features, whichone=\"Team\", dowhat = \"Open_the_door\")\n",
    "# for i in range(len(Team_df)):\n",
    "#     vmfcc, vmel, vtonnetz, vchroma, vcontrast, vlabel = Extract_features(Team_df[i], \"Team\", \"Open_the_door\")\n",
    "#     mel.append(vmel)\n",
    "#     tonnetz.append(vtonnetz)\n",
    "#     chroma.append(vchroma)\n",
    "#     contrast.append(vcontrast)\n",
    "#     label_enter.append(vlabel)\n",
    "#     mfccs.append(vmfcc)\n",
    "# Data = {\n",
    "#     \"mfccs\": mfccs,\n",
    "#     \"mel\": mel,\n",
    "#     \"chroma\": chroma,\n",
    "#     \"tonnetz\": tonnetz,\n",
    "#     \"contrast\": contrast,\n",
    "#     \"Labels\": label_enter\n",
    "# }\n",
    "# DataSet = pd.DataFrame(Data)\n",
    "# print(DataSet)"
   ]
  },
  {
   "cell_type": "code",
   "execution_count": null,
   "id": "2945ecaa",
   "metadata": {},
   "outputs": [],
   "source": []
  }
 ],
 "metadata": {
  "kernelspec": {
   "display_name": "Python 3.10.4 64-bit",
   "language": "python",
   "name": "python3"
  },
  "language_info": {
   "codemirror_mode": {
    "name": "ipython",
    "version": 3
   },
   "file_extension": ".py",
   "mimetype": "text/x-python",
   "name": "python",
   "nbconvert_exporter": "python",
   "pygments_lexer": "ipython3",
   "version": "3.10.4"
  },
  "vscode": {
   "interpreter": {
    "hash": "369f2c481f4da34e4445cda3fffd2e751bd1c4d706f27375911949ba6bb62e1c"
   }
  }
 },
 "nbformat": 4,
 "nbformat_minor": 5
}
